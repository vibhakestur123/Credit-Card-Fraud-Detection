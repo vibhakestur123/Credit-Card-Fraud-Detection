{
  "nbformat": 4,
  "nbformat_minor": 0,
  "metadata": {
    "colab": {
      "provenance": []
    },
    "kernelspec": {
      "display_name": "Python 3",
      "name": "python3"
    },
    "language_info": {
      "name": "python"
    }
  },
  "cells": [
    {
      "cell_type": "code",
      "metadata": {
        "id": "B5CrD0e8ae-q"
      },
      "source": [
        "# IMPORTING PACKAGES\n",
        "import pandas as pd # data processing\n",
        "import numpy as np # working with arrays\n",
        "from termcolor import colored as cl # text customization\n",
        "import itertools # advanced tools\n",
        "\n",
        "import matplotlib.pyplot as plt# visualization\n",
        "%matplotlib inline\n",
        "import seaborn as sns\n",
        "import warnings\n",
        "warnings.filterwarnings('ignore')\n",
        "\n",
        "from sklearn.preprocessing import StandardScaler # data normalization\n",
        "from sklearn.model_selection import train_test_split # data split\n",
        "from sklearn.tree import DecisionTreeClassifier # Decision tree algorithm\n",
        "from sklearn.neighbors import KNeighborsClassifier # KNN algorithm\n",
        "from sklearn.linear_model import LogisticRegression # Logistic regression algorithm\n",
        "from sklearn.svm import SVC # SVM algorithm\n",
        "from sklearn.ensemble import RandomForestClassifier # Random forest tree algorithm\n",
        "from xgboost import XGBClassifier # XGBoost algorithm\n",
        "\n",
        "from sklearn.metrics import confusion_matrix # evaluation metric\n",
        "from sklearn.metrics import accuracy_score # evaluation metric\n",
        "from sklearn.metrics import f1_score # evaluation metric"
      ],
      "execution_count": null,
      "outputs": []
    },
    {
      "cell_type": "markdown",
      "metadata": {
        "id": "V-oguEVeIByh"
      },
      "source": [
        "**Reading and understanding the data**"
      ]
    },
    {
      "cell_type": "code",
      "metadata": {
        "id": "JFBwAqSkAiO7"
      },
      "source": [
        "#importing data\n",
        "df = pd.read_csv('/content/drive/MyDrive/creditcardfraud.csv')\n",
        "\n",
        "df.head()"
      ],
      "execution_count": null,
      "outputs": []
    },
    {
      "cell_type": "code",
      "metadata": {
        "id": "FvU5NlpJbUWi",
        "colab": {
          "base_uri": "https://localhost:8080/",
          "height": 224
        },
        "outputId": "4448befe-4d8e-4360-bdd5-2da4e3d454ed"
      },
      "source": [
        "df.tail()"
      ],
      "execution_count": null,
      "outputs": [
        {
          "output_type": "execute_result",
          "data": {
            "text/html": [
              "<div>\n",
              "<style scoped>\n",
              "    .dataframe tbody tr th:only-of-type {\n",
              "        vertical-align: middle;\n",
              "    }\n",
              "\n",
              "    .dataframe tbody tr th {\n",
              "        vertical-align: top;\n",
              "    }\n",
              "\n",
              "    .dataframe thead th {\n",
              "        text-align: right;\n",
              "    }\n",
              "</style>\n",
              "<table border=\"1\" class=\"dataframe\">\n",
              "  <thead>\n",
              "    <tr style=\"text-align: right;\">\n",
              "      <th></th>\n",
              "      <th>V1</th>\n",
              "      <th>V2</th>\n",
              "      <th>V3</th>\n",
              "      <th>V4</th>\n",
              "      <th>V5</th>\n",
              "      <th>V6</th>\n",
              "      <th>V7</th>\n",
              "      <th>V8</th>\n",
              "      <th>V9</th>\n",
              "      <th>V10</th>\n",
              "      <th>V11</th>\n",
              "      <th>V12</th>\n",
              "      <th>V13</th>\n",
              "      <th>V14</th>\n",
              "      <th>V15</th>\n",
              "      <th>V16</th>\n",
              "      <th>V17</th>\n",
              "      <th>V18</th>\n",
              "      <th>V19</th>\n",
              "      <th>V20</th>\n",
              "      <th>V21</th>\n",
              "      <th>V22</th>\n",
              "      <th>V23</th>\n",
              "      <th>V24</th>\n",
              "      <th>V25</th>\n",
              "      <th>V26</th>\n",
              "      <th>V27</th>\n",
              "      <th>V28</th>\n",
              "      <th>Amount</th>\n",
              "      <th>Class</th>\n",
              "    </tr>\n",
              "  </thead>\n",
              "  <tbody>\n",
              "    <tr>\n",
              "      <th>284802</th>\n",
              "      <td>-11.881118</td>\n",
              "      <td>10.071785</td>\n",
              "      <td>-9.834783</td>\n",
              "      <td>-2.066656</td>\n",
              "      <td>-5.364473</td>\n",
              "      <td>-2.606837</td>\n",
              "      <td>-4.918215</td>\n",
              "      <td>7.305334</td>\n",
              "      <td>1.914428</td>\n",
              "      <td>4.356170</td>\n",
              "      <td>-1.593105</td>\n",
              "      <td>2.711941</td>\n",
              "      <td>-0.689256</td>\n",
              "      <td>4.626942</td>\n",
              "      <td>-0.924459</td>\n",
              "      <td>1.107641</td>\n",
              "      <td>1.991691</td>\n",
              "      <td>0.510632</td>\n",
              "      <td>-0.682920</td>\n",
              "      <td>1.475829</td>\n",
              "      <td>0.213454</td>\n",
              "      <td>0.111864</td>\n",
              "      <td>1.014480</td>\n",
              "      <td>-0.509348</td>\n",
              "      <td>1.436807</td>\n",
              "      <td>0.250034</td>\n",
              "      <td>0.943651</td>\n",
              "      <td>0.823731</td>\n",
              "      <td>0.77</td>\n",
              "      <td>0</td>\n",
              "    </tr>\n",
              "    <tr>\n",
              "      <th>284803</th>\n",
              "      <td>-0.732789</td>\n",
              "      <td>-0.055080</td>\n",
              "      <td>2.035030</td>\n",
              "      <td>-0.738589</td>\n",
              "      <td>0.868229</td>\n",
              "      <td>1.058415</td>\n",
              "      <td>0.024330</td>\n",
              "      <td>0.294869</td>\n",
              "      <td>0.584800</td>\n",
              "      <td>-0.975926</td>\n",
              "      <td>-0.150189</td>\n",
              "      <td>0.915802</td>\n",
              "      <td>1.214756</td>\n",
              "      <td>-0.675143</td>\n",
              "      <td>1.164931</td>\n",
              "      <td>-0.711757</td>\n",
              "      <td>-0.025693</td>\n",
              "      <td>-1.221179</td>\n",
              "      <td>-1.545556</td>\n",
              "      <td>0.059616</td>\n",
              "      <td>0.214205</td>\n",
              "      <td>0.924384</td>\n",
              "      <td>0.012463</td>\n",
              "      <td>-1.016226</td>\n",
              "      <td>-0.606624</td>\n",
              "      <td>-0.395255</td>\n",
              "      <td>0.068472</td>\n",
              "      <td>-0.053527</td>\n",
              "      <td>24.79</td>\n",
              "      <td>0</td>\n",
              "    </tr>\n",
              "    <tr>\n",
              "      <th>284804</th>\n",
              "      <td>1.919565</td>\n",
              "      <td>-0.301254</td>\n",
              "      <td>-3.249640</td>\n",
              "      <td>-0.557828</td>\n",
              "      <td>2.630515</td>\n",
              "      <td>3.031260</td>\n",
              "      <td>-0.296827</td>\n",
              "      <td>0.708417</td>\n",
              "      <td>0.432454</td>\n",
              "      <td>-0.484782</td>\n",
              "      <td>0.411614</td>\n",
              "      <td>0.063119</td>\n",
              "      <td>-0.183699</td>\n",
              "      <td>-0.510602</td>\n",
              "      <td>1.329284</td>\n",
              "      <td>0.140716</td>\n",
              "      <td>0.313502</td>\n",
              "      <td>0.395652</td>\n",
              "      <td>-0.577252</td>\n",
              "      <td>0.001396</td>\n",
              "      <td>0.232045</td>\n",
              "      <td>0.578229</td>\n",
              "      <td>-0.037501</td>\n",
              "      <td>0.640134</td>\n",
              "      <td>0.265745</td>\n",
              "      <td>-0.087371</td>\n",
              "      <td>0.004455</td>\n",
              "      <td>-0.026561</td>\n",
              "      <td>67.88</td>\n",
              "      <td>0</td>\n",
              "    </tr>\n",
              "    <tr>\n",
              "      <th>284805</th>\n",
              "      <td>-0.240440</td>\n",
              "      <td>0.530483</td>\n",
              "      <td>0.702510</td>\n",
              "      <td>0.689799</td>\n",
              "      <td>-0.377961</td>\n",
              "      <td>0.623708</td>\n",
              "      <td>-0.686180</td>\n",
              "      <td>0.679145</td>\n",
              "      <td>0.392087</td>\n",
              "      <td>-0.399126</td>\n",
              "      <td>-1.933849</td>\n",
              "      <td>-0.962886</td>\n",
              "      <td>-1.042082</td>\n",
              "      <td>0.449624</td>\n",
              "      <td>1.962563</td>\n",
              "      <td>-0.608577</td>\n",
              "      <td>0.509928</td>\n",
              "      <td>1.113981</td>\n",
              "      <td>2.897849</td>\n",
              "      <td>0.127434</td>\n",
              "      <td>0.265245</td>\n",
              "      <td>0.800049</td>\n",
              "      <td>-0.163298</td>\n",
              "      <td>0.123205</td>\n",
              "      <td>-0.569159</td>\n",
              "      <td>0.546668</td>\n",
              "      <td>0.108821</td>\n",
              "      <td>0.104533</td>\n",
              "      <td>10.00</td>\n",
              "      <td>0</td>\n",
              "    </tr>\n",
              "    <tr>\n",
              "      <th>284806</th>\n",
              "      <td>-0.533413</td>\n",
              "      <td>-0.189733</td>\n",
              "      <td>0.703337</td>\n",
              "      <td>-0.506271</td>\n",
              "      <td>-0.012546</td>\n",
              "      <td>-0.649617</td>\n",
              "      <td>1.577006</td>\n",
              "      <td>-0.414650</td>\n",
              "      <td>0.486180</td>\n",
              "      <td>-0.915427</td>\n",
              "      <td>-1.040458</td>\n",
              "      <td>-0.031513</td>\n",
              "      <td>-0.188093</td>\n",
              "      <td>-0.084316</td>\n",
              "      <td>0.041333</td>\n",
              "      <td>-0.302620</td>\n",
              "      <td>-0.660377</td>\n",
              "      <td>0.167430</td>\n",
              "      <td>-0.256117</td>\n",
              "      <td>0.382948</td>\n",
              "      <td>0.261057</td>\n",
              "      <td>0.643078</td>\n",
              "      <td>0.376777</td>\n",
              "      <td>0.008797</td>\n",
              "      <td>-0.473649</td>\n",
              "      <td>-0.818267</td>\n",
              "      <td>-0.002415</td>\n",
              "      <td>0.013649</td>\n",
              "      <td>217.00</td>\n",
              "      <td>0</td>\n",
              "    </tr>\n",
              "  </tbody>\n",
              "</table>\n",
              "</div>"
            ],
            "text/plain": [
              "               V1         V2        V3  ...       V28  Amount  Class\n",
              "284802 -11.881118  10.071785 -9.834783  ...  0.823731    0.77      0\n",
              "284803  -0.732789  -0.055080  2.035030  ... -0.053527   24.79      0\n",
              "284804   1.919565  -0.301254 -3.249640  ... -0.026561   67.88      0\n",
              "284805  -0.240440   0.530483  0.702510  ...  0.104533   10.00      0\n",
              "284806  -0.533413  -0.189733  0.703337  ...  0.013649  217.00      0\n",
              "\n",
              "[5 rows x 30 columns]"
            ]
          },
          "metadata": {
            "tags": []
          },
          "execution_count": 61
        }
      ]
    },
    {
      "cell_type": "code",
      "metadata": {
        "id": "rYoDRn21Bm_J",
        "colab": {
          "base_uri": "https://localhost:8080/"
        },
        "outputId": "056268ce-e1c9-4d26-81bf-5e279bf11d36"
      },
      "source": [
        "#dataset info\n",
        "df.info()"
      ],
      "execution_count": null,
      "outputs": [
        {
          "output_type": "stream",
          "text": [
            "<class 'pandas.core.frame.DataFrame'>\n",
            "RangeIndex: 284807 entries, 0 to 284806\n",
            "Data columns (total 30 columns):\n",
            " #   Column  Non-Null Count   Dtype  \n",
            "---  ------  --------------   -----  \n",
            " 0   V1      284807 non-null  float64\n",
            " 1   V2      284807 non-null  float64\n",
            " 2   V3      284807 non-null  float64\n",
            " 3   V4      284807 non-null  float64\n",
            " 4   V5      284807 non-null  float64\n",
            " 5   V6      284807 non-null  float64\n",
            " 6   V7      284807 non-null  float64\n",
            " 7   V8      284807 non-null  float64\n",
            " 8   V9      284807 non-null  float64\n",
            " 9   V10     284807 non-null  float64\n",
            " 10  V11     284807 non-null  float64\n",
            " 11  V12     284807 non-null  float64\n",
            " 12  V13     284807 non-null  float64\n",
            " 13  V14     284807 non-null  float64\n",
            " 14  V15     284807 non-null  float64\n",
            " 15  V16     284807 non-null  float64\n",
            " 16  V17     284807 non-null  float64\n",
            " 17  V18     284807 non-null  float64\n",
            " 18  V19     284807 non-null  float64\n",
            " 19  V20     284807 non-null  float64\n",
            " 20  V21     284807 non-null  float64\n",
            " 21  V22     284807 non-null  float64\n",
            " 22  V23     284807 non-null  float64\n",
            " 23  V24     284807 non-null  float64\n",
            " 24  V25     284807 non-null  float64\n",
            " 25  V26     284807 non-null  float64\n",
            " 26  V27     284807 non-null  float64\n",
            " 27  V28     284807 non-null  float64\n",
            " 28  Amount  284807 non-null  float64\n",
            " 29  Class   284807 non-null  int64  \n",
            "dtypes: float64(29), int64(1)\n",
            "memory usage: 65.2 MB\n"
          ],
          "name": "stdout"
        }
      ]
    },
    {
      "cell_type": "code",
      "metadata": {
        "id": "30w0Ic0GB8ac",
        "colab": {
          "base_uri": "https://localhost:8080/",
          "height": 317
        },
        "outputId": "f9205e21-d58d-4510-9f95-51b8a628b018"
      },
      "source": [
        "df.describe()"
      ],
      "execution_count": null,
      "outputs": [
        {
          "output_type": "execute_result",
          "data": {
            "text/html": [
              "<div>\n",
              "<style scoped>\n",
              "    .dataframe tbody tr th:only-of-type {\n",
              "        vertical-align: middle;\n",
              "    }\n",
              "\n",
              "    .dataframe tbody tr th {\n",
              "        vertical-align: top;\n",
              "    }\n",
              "\n",
              "    .dataframe thead th {\n",
              "        text-align: right;\n",
              "    }\n",
              "</style>\n",
              "<table border=\"1\" class=\"dataframe\">\n",
              "  <thead>\n",
              "    <tr style=\"text-align: right;\">\n",
              "      <th></th>\n",
              "      <th>V1</th>\n",
              "      <th>V2</th>\n",
              "      <th>V3</th>\n",
              "      <th>V4</th>\n",
              "      <th>V5</th>\n",
              "      <th>V6</th>\n",
              "      <th>V7</th>\n",
              "      <th>V8</th>\n",
              "      <th>V9</th>\n",
              "      <th>V10</th>\n",
              "      <th>V11</th>\n",
              "      <th>V12</th>\n",
              "      <th>V13</th>\n",
              "      <th>V14</th>\n",
              "      <th>V15</th>\n",
              "      <th>V16</th>\n",
              "      <th>V17</th>\n",
              "      <th>V18</th>\n",
              "      <th>V19</th>\n",
              "      <th>V20</th>\n",
              "      <th>V21</th>\n",
              "      <th>V22</th>\n",
              "      <th>V23</th>\n",
              "      <th>V24</th>\n",
              "      <th>V25</th>\n",
              "      <th>V26</th>\n",
              "      <th>V27</th>\n",
              "      <th>V28</th>\n",
              "      <th>Amount</th>\n",
              "      <th>Class</th>\n",
              "    </tr>\n",
              "  </thead>\n",
              "  <tbody>\n",
              "    <tr>\n",
              "      <th>count</th>\n",
              "      <td>2.848070e+05</td>\n",
              "      <td>2.848070e+05</td>\n",
              "      <td>2.848070e+05</td>\n",
              "      <td>2.848070e+05</td>\n",
              "      <td>2.848070e+05</td>\n",
              "      <td>2.848070e+05</td>\n",
              "      <td>2.848070e+05</td>\n",
              "      <td>2.848070e+05</td>\n",
              "      <td>2.848070e+05</td>\n",
              "      <td>2.848070e+05</td>\n",
              "      <td>2.848070e+05</td>\n",
              "      <td>2.848070e+05</td>\n",
              "      <td>2.848070e+05</td>\n",
              "      <td>2.848070e+05</td>\n",
              "      <td>2.848070e+05</td>\n",
              "      <td>2.848070e+05</td>\n",
              "      <td>2.848070e+05</td>\n",
              "      <td>2.848070e+05</td>\n",
              "      <td>2.848070e+05</td>\n",
              "      <td>2.848070e+05</td>\n",
              "      <td>2.848070e+05</td>\n",
              "      <td>2.848070e+05</td>\n",
              "      <td>2.848070e+05</td>\n",
              "      <td>2.848070e+05</td>\n",
              "      <td>2.848070e+05</td>\n",
              "      <td>2.848070e+05</td>\n",
              "      <td>2.848070e+05</td>\n",
              "      <td>2.848070e+05</td>\n",
              "      <td>284807.000000</td>\n",
              "      <td>284807.000000</td>\n",
              "    </tr>\n",
              "    <tr>\n",
              "      <th>mean</th>\n",
              "      <td>3.919560e-15</td>\n",
              "      <td>5.688174e-16</td>\n",
              "      <td>-8.769071e-15</td>\n",
              "      <td>2.782312e-15</td>\n",
              "      <td>-1.552563e-15</td>\n",
              "      <td>2.010663e-15</td>\n",
              "      <td>-1.694249e-15</td>\n",
              "      <td>-1.927028e-16</td>\n",
              "      <td>-3.137024e-15</td>\n",
              "      <td>1.768627e-15</td>\n",
              "      <td>9.170318e-16</td>\n",
              "      <td>-1.810658e-15</td>\n",
              "      <td>1.693438e-15</td>\n",
              "      <td>1.479045e-15</td>\n",
              "      <td>3.482336e-15</td>\n",
              "      <td>1.392007e-15</td>\n",
              "      <td>-7.528491e-16</td>\n",
              "      <td>4.328772e-16</td>\n",
              "      <td>9.049732e-16</td>\n",
              "      <td>5.085503e-16</td>\n",
              "      <td>1.537294e-16</td>\n",
              "      <td>7.959909e-16</td>\n",
              "      <td>5.367590e-16</td>\n",
              "      <td>4.458112e-15</td>\n",
              "      <td>1.453003e-15</td>\n",
              "      <td>1.699104e-15</td>\n",
              "      <td>-3.660161e-16</td>\n",
              "      <td>-1.206049e-16</td>\n",
              "      <td>88.349619</td>\n",
              "      <td>0.001727</td>\n",
              "    </tr>\n",
              "    <tr>\n",
              "      <th>std</th>\n",
              "      <td>1.958696e+00</td>\n",
              "      <td>1.651309e+00</td>\n",
              "      <td>1.516255e+00</td>\n",
              "      <td>1.415869e+00</td>\n",
              "      <td>1.380247e+00</td>\n",
              "      <td>1.332271e+00</td>\n",
              "      <td>1.237094e+00</td>\n",
              "      <td>1.194353e+00</td>\n",
              "      <td>1.098632e+00</td>\n",
              "      <td>1.088850e+00</td>\n",
              "      <td>1.020713e+00</td>\n",
              "      <td>9.992014e-01</td>\n",
              "      <td>9.952742e-01</td>\n",
              "      <td>9.585956e-01</td>\n",
              "      <td>9.153160e-01</td>\n",
              "      <td>8.762529e-01</td>\n",
              "      <td>8.493371e-01</td>\n",
              "      <td>8.381762e-01</td>\n",
              "      <td>8.140405e-01</td>\n",
              "      <td>7.709250e-01</td>\n",
              "      <td>7.345240e-01</td>\n",
              "      <td>7.257016e-01</td>\n",
              "      <td>6.244603e-01</td>\n",
              "      <td>6.056471e-01</td>\n",
              "      <td>5.212781e-01</td>\n",
              "      <td>4.822270e-01</td>\n",
              "      <td>4.036325e-01</td>\n",
              "      <td>3.300833e-01</td>\n",
              "      <td>250.120109</td>\n",
              "      <td>0.041527</td>\n",
              "    </tr>\n",
              "    <tr>\n",
              "      <th>min</th>\n",
              "      <td>-5.640751e+01</td>\n",
              "      <td>-7.271573e+01</td>\n",
              "      <td>-4.832559e+01</td>\n",
              "      <td>-5.683171e+00</td>\n",
              "      <td>-1.137433e+02</td>\n",
              "      <td>-2.616051e+01</td>\n",
              "      <td>-4.355724e+01</td>\n",
              "      <td>-7.321672e+01</td>\n",
              "      <td>-1.343407e+01</td>\n",
              "      <td>-2.458826e+01</td>\n",
              "      <td>-4.797473e+00</td>\n",
              "      <td>-1.868371e+01</td>\n",
              "      <td>-5.791881e+00</td>\n",
              "      <td>-1.921433e+01</td>\n",
              "      <td>-4.498945e+00</td>\n",
              "      <td>-1.412985e+01</td>\n",
              "      <td>-2.516280e+01</td>\n",
              "      <td>-9.498746e+00</td>\n",
              "      <td>-7.213527e+00</td>\n",
              "      <td>-5.449772e+01</td>\n",
              "      <td>-3.483038e+01</td>\n",
              "      <td>-1.093314e+01</td>\n",
              "      <td>-4.480774e+01</td>\n",
              "      <td>-2.836627e+00</td>\n",
              "      <td>-1.029540e+01</td>\n",
              "      <td>-2.604551e+00</td>\n",
              "      <td>-2.256568e+01</td>\n",
              "      <td>-1.543008e+01</td>\n",
              "      <td>0.000000</td>\n",
              "      <td>0.000000</td>\n",
              "    </tr>\n",
              "    <tr>\n",
              "      <th>25%</th>\n",
              "      <td>-9.203734e-01</td>\n",
              "      <td>-5.985499e-01</td>\n",
              "      <td>-8.903648e-01</td>\n",
              "      <td>-8.486401e-01</td>\n",
              "      <td>-6.915971e-01</td>\n",
              "      <td>-7.682956e-01</td>\n",
              "      <td>-5.540759e-01</td>\n",
              "      <td>-2.086297e-01</td>\n",
              "      <td>-6.430976e-01</td>\n",
              "      <td>-5.354257e-01</td>\n",
              "      <td>-7.624942e-01</td>\n",
              "      <td>-4.055715e-01</td>\n",
              "      <td>-6.485393e-01</td>\n",
              "      <td>-4.255740e-01</td>\n",
              "      <td>-5.828843e-01</td>\n",
              "      <td>-4.680368e-01</td>\n",
              "      <td>-4.837483e-01</td>\n",
              "      <td>-4.988498e-01</td>\n",
              "      <td>-4.562989e-01</td>\n",
              "      <td>-2.117214e-01</td>\n",
              "      <td>-2.283949e-01</td>\n",
              "      <td>-5.423504e-01</td>\n",
              "      <td>-1.618463e-01</td>\n",
              "      <td>-3.545861e-01</td>\n",
              "      <td>-3.171451e-01</td>\n",
              "      <td>-3.269839e-01</td>\n",
              "      <td>-7.083953e-02</td>\n",
              "      <td>-5.295979e-02</td>\n",
              "      <td>5.600000</td>\n",
              "      <td>0.000000</td>\n",
              "    </tr>\n",
              "    <tr>\n",
              "      <th>50%</th>\n",
              "      <td>1.810880e-02</td>\n",
              "      <td>6.548556e-02</td>\n",
              "      <td>1.798463e-01</td>\n",
              "      <td>-1.984653e-02</td>\n",
              "      <td>-5.433583e-02</td>\n",
              "      <td>-2.741871e-01</td>\n",
              "      <td>4.010308e-02</td>\n",
              "      <td>2.235804e-02</td>\n",
              "      <td>-5.142873e-02</td>\n",
              "      <td>-9.291738e-02</td>\n",
              "      <td>-3.275735e-02</td>\n",
              "      <td>1.400326e-01</td>\n",
              "      <td>-1.356806e-02</td>\n",
              "      <td>5.060132e-02</td>\n",
              "      <td>4.807155e-02</td>\n",
              "      <td>6.641332e-02</td>\n",
              "      <td>-6.567575e-02</td>\n",
              "      <td>-3.636312e-03</td>\n",
              "      <td>3.734823e-03</td>\n",
              "      <td>-6.248109e-02</td>\n",
              "      <td>-2.945017e-02</td>\n",
              "      <td>6.781943e-03</td>\n",
              "      <td>-1.119293e-02</td>\n",
              "      <td>4.097606e-02</td>\n",
              "      <td>1.659350e-02</td>\n",
              "      <td>-5.213911e-02</td>\n",
              "      <td>1.342146e-03</td>\n",
              "      <td>1.124383e-02</td>\n",
              "      <td>22.000000</td>\n",
              "      <td>0.000000</td>\n",
              "    </tr>\n",
              "    <tr>\n",
              "      <th>75%</th>\n",
              "      <td>1.315642e+00</td>\n",
              "      <td>8.037239e-01</td>\n",
              "      <td>1.027196e+00</td>\n",
              "      <td>7.433413e-01</td>\n",
              "      <td>6.119264e-01</td>\n",
              "      <td>3.985649e-01</td>\n",
              "      <td>5.704361e-01</td>\n",
              "      <td>3.273459e-01</td>\n",
              "      <td>5.971390e-01</td>\n",
              "      <td>4.539234e-01</td>\n",
              "      <td>7.395934e-01</td>\n",
              "      <td>6.182380e-01</td>\n",
              "      <td>6.625050e-01</td>\n",
              "      <td>4.931498e-01</td>\n",
              "      <td>6.488208e-01</td>\n",
              "      <td>5.232963e-01</td>\n",
              "      <td>3.996750e-01</td>\n",
              "      <td>5.008067e-01</td>\n",
              "      <td>4.589494e-01</td>\n",
              "      <td>1.330408e-01</td>\n",
              "      <td>1.863772e-01</td>\n",
              "      <td>5.285536e-01</td>\n",
              "      <td>1.476421e-01</td>\n",
              "      <td>4.395266e-01</td>\n",
              "      <td>3.507156e-01</td>\n",
              "      <td>2.409522e-01</td>\n",
              "      <td>9.104512e-02</td>\n",
              "      <td>7.827995e-02</td>\n",
              "      <td>77.165000</td>\n",
              "      <td>0.000000</td>\n",
              "    </tr>\n",
              "    <tr>\n",
              "      <th>max</th>\n",
              "      <td>2.454930e+00</td>\n",
              "      <td>2.205773e+01</td>\n",
              "      <td>9.382558e+00</td>\n",
              "      <td>1.687534e+01</td>\n",
              "      <td>3.480167e+01</td>\n",
              "      <td>7.330163e+01</td>\n",
              "      <td>1.205895e+02</td>\n",
              "      <td>2.000721e+01</td>\n",
              "      <td>1.559499e+01</td>\n",
              "      <td>2.374514e+01</td>\n",
              "      <td>1.201891e+01</td>\n",
              "      <td>7.848392e+00</td>\n",
              "      <td>7.126883e+00</td>\n",
              "      <td>1.052677e+01</td>\n",
              "      <td>8.877742e+00</td>\n",
              "      <td>1.731511e+01</td>\n",
              "      <td>9.253526e+00</td>\n",
              "      <td>5.041069e+00</td>\n",
              "      <td>5.591971e+00</td>\n",
              "      <td>3.942090e+01</td>\n",
              "      <td>2.720284e+01</td>\n",
              "      <td>1.050309e+01</td>\n",
              "      <td>2.252841e+01</td>\n",
              "      <td>4.584549e+00</td>\n",
              "      <td>7.519589e+00</td>\n",
              "      <td>3.517346e+00</td>\n",
              "      <td>3.161220e+01</td>\n",
              "      <td>3.384781e+01</td>\n",
              "      <td>25691.160000</td>\n",
              "      <td>1.000000</td>\n",
              "    </tr>\n",
              "  </tbody>\n",
              "</table>\n",
              "</div>"
            ],
            "text/plain": [
              "                 V1            V2  ...         Amount          Class\n",
              "count  2.848070e+05  2.848070e+05  ...  284807.000000  284807.000000\n",
              "mean   3.919560e-15  5.688174e-16  ...      88.349619       0.001727\n",
              "std    1.958696e+00  1.651309e+00  ...     250.120109       0.041527\n",
              "min   -5.640751e+01 -7.271573e+01  ...       0.000000       0.000000\n",
              "25%   -9.203734e-01 -5.985499e-01  ...       5.600000       0.000000\n",
              "50%    1.810880e-02  6.548556e-02  ...      22.000000       0.000000\n",
              "75%    1.315642e+00  8.037239e-01  ...      77.165000       0.000000\n",
              "max    2.454930e+00  2.205773e+01  ...   25691.160000       1.000000\n",
              "\n",
              "[8 rows x 30 columns]"
            ]
          },
          "metadata": {
            "tags": []
          },
          "execution_count": 63
        }
      ]
    },
    {
      "cell_type": "markdown",
      "metadata": {
        "id": "tVIs6GfNDys0"
      },
      "source": [
        "\n",
        "**Handling missing values in columns**"
      ]
    },
    {
      "cell_type": "code",
      "metadata": {
        "id": "i7y4pKP7DxJc",
        "colab": {
          "base_uri": "https://localhost:8080/",
          "height": 979
        },
        "outputId": "abfe001b-2400-41fe-ab4f-8f9c034579de"
      },
      "source": [
        "#Cheking percent of missing values in columns\n",
        "df_missing_columns = (round(((df.isnull().sum()/len(df.index))*100),2).to_frame('null')).sort_values('null', ascending=False)\n",
        "df_missing_columns"
      ],
      "execution_count": null,
      "outputs": [
        {
          "output_type": "execute_result",
          "data": {
            "text/html": [
              "<div>\n",
              "<style scoped>\n",
              "    .dataframe tbody tr th:only-of-type {\n",
              "        vertical-align: middle;\n",
              "    }\n",
              "\n",
              "    .dataframe tbody tr th {\n",
              "        vertical-align: top;\n",
              "    }\n",
              "\n",
              "    .dataframe thead th {\n",
              "        text-align: right;\n",
              "    }\n",
              "</style>\n",
              "<table border=\"1\" class=\"dataframe\">\n",
              "  <thead>\n",
              "    <tr style=\"text-align: right;\">\n",
              "      <th></th>\n",
              "      <th>null</th>\n",
              "    </tr>\n",
              "  </thead>\n",
              "  <tbody>\n",
              "    <tr>\n",
              "      <th>V1</th>\n",
              "      <td>0.0</td>\n",
              "    </tr>\n",
              "    <tr>\n",
              "      <th>V2</th>\n",
              "      <td>0.0</td>\n",
              "    </tr>\n",
              "    <tr>\n",
              "      <th>Amount</th>\n",
              "      <td>0.0</td>\n",
              "    </tr>\n",
              "    <tr>\n",
              "      <th>V28</th>\n",
              "      <td>0.0</td>\n",
              "    </tr>\n",
              "    <tr>\n",
              "      <th>V27</th>\n",
              "      <td>0.0</td>\n",
              "    </tr>\n",
              "    <tr>\n",
              "      <th>V26</th>\n",
              "      <td>0.0</td>\n",
              "    </tr>\n",
              "    <tr>\n",
              "      <th>V25</th>\n",
              "      <td>0.0</td>\n",
              "    </tr>\n",
              "    <tr>\n",
              "      <th>V24</th>\n",
              "      <td>0.0</td>\n",
              "    </tr>\n",
              "    <tr>\n",
              "      <th>V23</th>\n",
              "      <td>0.0</td>\n",
              "    </tr>\n",
              "    <tr>\n",
              "      <th>V22</th>\n",
              "      <td>0.0</td>\n",
              "    </tr>\n",
              "    <tr>\n",
              "      <th>V21</th>\n",
              "      <td>0.0</td>\n",
              "    </tr>\n",
              "    <tr>\n",
              "      <th>V20</th>\n",
              "      <td>0.0</td>\n",
              "    </tr>\n",
              "    <tr>\n",
              "      <th>V19</th>\n",
              "      <td>0.0</td>\n",
              "    </tr>\n",
              "    <tr>\n",
              "      <th>V18</th>\n",
              "      <td>0.0</td>\n",
              "    </tr>\n",
              "    <tr>\n",
              "      <th>V17</th>\n",
              "      <td>0.0</td>\n",
              "    </tr>\n",
              "    <tr>\n",
              "      <th>V16</th>\n",
              "      <td>0.0</td>\n",
              "    </tr>\n",
              "    <tr>\n",
              "      <th>V15</th>\n",
              "      <td>0.0</td>\n",
              "    </tr>\n",
              "    <tr>\n",
              "      <th>V14</th>\n",
              "      <td>0.0</td>\n",
              "    </tr>\n",
              "    <tr>\n",
              "      <th>V13</th>\n",
              "      <td>0.0</td>\n",
              "    </tr>\n",
              "    <tr>\n",
              "      <th>V12</th>\n",
              "      <td>0.0</td>\n",
              "    </tr>\n",
              "    <tr>\n",
              "      <th>V11</th>\n",
              "      <td>0.0</td>\n",
              "    </tr>\n",
              "    <tr>\n",
              "      <th>V10</th>\n",
              "      <td>0.0</td>\n",
              "    </tr>\n",
              "    <tr>\n",
              "      <th>V9</th>\n",
              "      <td>0.0</td>\n",
              "    </tr>\n",
              "    <tr>\n",
              "      <th>V8</th>\n",
              "      <td>0.0</td>\n",
              "    </tr>\n",
              "    <tr>\n",
              "      <th>V7</th>\n",
              "      <td>0.0</td>\n",
              "    </tr>\n",
              "    <tr>\n",
              "      <th>V6</th>\n",
              "      <td>0.0</td>\n",
              "    </tr>\n",
              "    <tr>\n",
              "      <th>V5</th>\n",
              "      <td>0.0</td>\n",
              "    </tr>\n",
              "    <tr>\n",
              "      <th>V4</th>\n",
              "      <td>0.0</td>\n",
              "    </tr>\n",
              "    <tr>\n",
              "      <th>V3</th>\n",
              "      <td>0.0</td>\n",
              "    </tr>\n",
              "    <tr>\n",
              "      <th>Class</th>\n",
              "      <td>0.0</td>\n",
              "    </tr>\n",
              "  </tbody>\n",
              "</table>\n",
              "</div>"
            ],
            "text/plain": [
              "        null\n",
              "V1       0.0\n",
              "V2       0.0\n",
              "Amount   0.0\n",
              "V28      0.0\n",
              "V27      0.0\n",
              "V26      0.0\n",
              "V25      0.0\n",
              "V24      0.0\n",
              "V23      0.0\n",
              "V22      0.0\n",
              "V21      0.0\n",
              "V20      0.0\n",
              "V19      0.0\n",
              "V18      0.0\n",
              "V17      0.0\n",
              "V16      0.0\n",
              "V15      0.0\n",
              "V14      0.0\n",
              "V13      0.0\n",
              "V12      0.0\n",
              "V11      0.0\n",
              "V10      0.0\n",
              "V9       0.0\n",
              "V8       0.0\n",
              "V7       0.0\n",
              "V6       0.0\n",
              "V5       0.0\n",
              "V4       0.0\n",
              "V3       0.0\n",
              "Class    0.0"
            ]
          },
          "metadata": {
            "tags": []
          },
          "execution_count": 64
        }
      ]
    },
    {
      "cell_type": "markdown",
      "metadata": {
        "id": "ldfr3JVzHZS5"
      },
      "source": [
        "**Analysis**: We can see that there is no missing values in any of the columns. Hence, there is no problem with null values in the entire dataset.\n",
        "\n"
      ]
    },
    {
      "cell_type": "markdown",
      "metadata": {
        "id": "BDIVAek0hk1N"
      },
      "source": [
        "\n",
        "**Outliers treatment**\n",
        "\n",
        "We are not performing any outliers treatment for this particular dataset. Because all the columns are already PCA transformed, which assumed that the outlier values are taken care while transforming the data."
      ]
    },
    {
      "cell_type": "markdown",
      "metadata": {
        "id": "aFwlzCFAEXbr"
      },
      "source": [
        "**Checking the distribution of the classes**\n",
        "\n",
        "In Class\n",
        "\n",
        "0 ---> Normal Transaction\n",
        "\n",
        "1 ---> Fradulent Transaction"
      ]
    },
    {
      "cell_type": "code",
      "metadata": {
        "id": "f076W9F9EYRO",
        "colab": {
          "base_uri": "https://localhost:8080/"
        },
        "outputId": "f4318abe-41c4-476b-d0ff-745bc6d7bb6a"
      },
      "source": [
        "df['Class'].value_counts()"
      ],
      "execution_count": null,
      "outputs": [
        {
          "output_type": "execute_result",
          "data": {
            "text/plain": [
              "0    284315\n",
              "1       492\n",
              "Name: Class, dtype: int64"
            ]
          },
          "metadata": {
            "tags": []
          },
          "execution_count": 65
        }
      ]
    },
    {
      "cell_type": "markdown",
      "metadata": {
        "id": "D2-VKjeBsvKq"
      },
      "source": [
        "**Analysis:** Data is imbalanced"
      ]
    },
    {
      "cell_type": "code",
      "metadata": {
        "id": "k5iHFa4AUocU"
      },
      "source": [
        "cases = len(df)\n",
        "nonfraud_count = len(df[df.Class == 0])\n",
        "fraud_count = len(df[df.Class == 1])\n",
        "fraud_percentage = round(fraud_count/nonfraud_count*100, 2)\n",
        "nonfraud_percentage = 100-fraud_percentage\n",
        "\n",
        "print('CASE COUNT')\n",
        "print('--------------------------------------------')\n",
        "print('Total number of cases are {}'.format(cases))\n",
        "print()\n",
        "print('Number of Non-fraud cases are {}'.format(nonfraud_count))\n",
        "print('Percentage of Non-fraud cases is {}%'.format(nonfraud_percentage))\n",
        "print()\n",
        "print('Number of fraud cases are {}'.format(fraud_count))\n",
        "print('Percentage of fraud cases is {}%'.format(fraud_percentage))\n",
        "print('--------------------------------------------')"
      ],
      "execution_count": null,
      "outputs": []
    },
    {
      "cell_type": "code",
      "metadata": {
        "id": "DZF3VThnyi5c",
        "colab": {
          "base_uri": "https://localhost:8080/",
          "height": 295
        },
        "outputId": "cf144479-3192-4607-ac39-71a9f35f634f"
      },
      "source": [
        "\n",
        "# Bar plot for the percentage of fraudulent vs non-fraudulent transcations\n",
        "fraud_percentage = {'Class':['Non-Fraudulent', 'Fraudulent'], 'Percentage':[nonfraud_percentage, fraud_percentage]}\n",
        "df_fraud_percentage = pd.DataFrame(fraud_percentage)\n",
        "sns.barplot(x='Class',y='Percentage', data=df_fraud_percentage)\n",
        "plt.title('Percentage of fraudulent vs non-fraudulent transcations')\n",
        "plt.show()"
      ],
      "execution_count": null,
      "outputs": [
        {
          "output_type": "display_data",
          "data": {
            "image/png": "[encoded data removed]",
            "text/plain": [
              "<Figure size 432x288 with 1 Axes>"
            ]
          },
          "metadata": {
            "tags": [],
            "needs_background": "light"
          }
        }
      ]
    },
    {
      "cell_type": "code",
      "metadata": {
        "id": "aiVPOY38rvJ-"
      },
      "source": [
        "#separting data for analysis\n",
        "nonfraud_cases = df[df.Class == 0]\n",
        "fraud_cases = df[df.Class == 1]"
      ],
      "execution_count": null,
      "outputs": []
    },
    {
      "cell_type": "code",
      "metadata": {
        "id": "Iam1JF5bsWTN",
        "colab": {
          "base_uri": "https://localhost:8080/"
        },
        "outputId": "68f45e9f-1ed0-4f90-8b2f-24a63eeff2a1"
      },
      "source": [
        "print(nonfraud_cases.shape)\n",
        "print(fraud_cases.shape)"
      ],
      "execution_count": null,
      "outputs": [
        {
          "output_type": "stream",
          "text": [
            "(284315, 30)\n",
            "(492, 30)\n"
          ],
          "name": "stdout"
        }
      ]
    },
    {
      "cell_type": "markdown",
      "metadata": {
        "id": "HwyX_jm5jDVj"
      },
      "source": [
        "\n",
        "**Observe the distribution of classes with time**"
      ]
    },
    {
      "cell_type": "code",
      "metadata": {
        "id": "XiAyZSJ-iWEu"
      },
      "source": [
        "# Distribution plot\n",
        "plt.figure(figsize=(8,5))\n",
        "ax = sns.distplot(fraud_cases['Time'],label='fraudulent',hist=False)\n",
        "ax = sns.distplot(nonfraud_cases['Time'],label='non fraudulent',hist=False)\n",
        "ax.set(xlabel='Seconds elapsed between the transction and the first transction')\n",
        "plt.show()"
      ],
      "execution_count": null,
      "outputs": []
    },
    {
      "cell_type": "markdown",
      "metadata": {
        "id": "rP3LxFgbiYrH"
      },
      "source": [
        "\n",
        "**Analysis**:We do not see any specific pattern for the fraudulent and non-fraudulent transctions with respect to Time. Hence, we can drop the Time column."
      ]
    },
    {
      "cell_type": "code",
      "metadata": {
        "id": "5vf-dF9VipGh"
      },
      "source": [
        "# Dropping the Time column\n",
        "df.drop('Time', axis=1, inplace=True)"
      ],
      "execution_count": null,
      "outputs": []
    },
    {
      "cell_type": "markdown",
      "metadata": {
        "id": "C1-K6cTmjJgM"
      },
      "source": [
        "**Observe the distribution of classes with amount**"
      ]
    },
    {
      "cell_type": "code",
      "metadata": {
        "id": "dy6Z22EijI3k"
      },
      "source": [
        "\n",
        "# Distribution plot\n",
        "plt.figure(figsize=(8,5))\n",
        "ax = sns.distplot(fraud_cases['Amount'],label='fraudulent',hist=False)\n",
        "ax = sns.distplot(nonfraud_cases['Time'],label='non fraudulent',hist=False)\n",
        "ax.set(xlabel='Transction Amount')\n",
        "plt.show()"
      ],
      "execution_count": null,
      "outputs": []
    },
    {
      "cell_type": "markdown",
      "metadata": {
        "id": "i9SRAkjvjrHg"
      },
      "source": [
        "**Analysis:**\n",
        "We can see that the fraudulent transctions are mostly densed in the lower range of amount, whereas the non-fraudulent transctions are spreaded throughout low to high range of amount."
      ]
    },
    {
      "cell_type": "code",
      "metadata": {
        "id": "wLHFN47hr5fB",
        "colab": {
          "base_uri": "https://localhost:8080/"
        },
        "outputId": "15ac23b8-2ab5-40a0-b194-a5dd909f1bc9"
      },
      "source": [
        "# statistical view of both fraud and non-fraud transaction amount data\n",
        "nonfraud_cases.Amount.describe()"
      ],
      "execution_count": null,
      "outputs": [
        {
          "output_type": "execute_result",
          "data": {
            "text/plain": [
              "count    284315.000000\n",
              "mean         88.291022\n",
              "std         250.105092\n",
              "min           0.000000\n",
              "25%           5.650000\n",
              "50%          22.000000\n",
              "75%          77.050000\n",
              "max       25691.160000\n",
              "Name: Amount, dtype: float64"
            ]
          },
          "metadata": {
            "tags": []
          },
          "execution_count": 70
        }
      ]
    },
    {
      "cell_type": "code",
      "metadata": {
        "id": "W60unalvsM_h",
        "colab": {
          "base_uri": "https://localhost:8080/"
        },
        "outputId": "c6a78c02-50f9-4d10-8bfc-9d8d4375c598"
      },
      "source": [
        "fraud_cases.Amount.describe()"
      ],
      "execution_count": null,
      "outputs": [
        {
          "output_type": "execute_result",
          "data": {
            "text/plain": [
              "count     492.000000\n",
              "mean      122.211321\n",
              "std       256.683288\n",
              "min         0.000000\n",
              "25%         1.000000\n",
              "50%         9.250000\n",
              "75%       105.890000\n",
              "max      2125.870000\n",
              "Name: Amount, dtype: float64"
            ]
          },
          "metadata": {
            "tags": []
          },
          "execution_count": 71
        }
      ]
    },
    {
      "cell_type": "markdown",
      "metadata": {
        "id": "gr4FIJpMwF2B"
      },
      "source": [
        "**Analysis:** Seeing the statistics and comparing it with Fraud and Non-fraud transaction, the values in the ‘Amount’ variable are varying enormously when compared to the rest of the variables"
      ]
    },
    {
      "cell_type": "markdown",
      "metadata": {
        "id": "-9W-xDGTtRvm"
      },
      "source": [
        "**Under-Sampling**\n",
        "\n",
        "Build a sample dataset containing similar distribution of Fraud and Non-Fraud Transaction\n",
        "\n",
        "Number of Fraud Transaction --->492"
      ]
    },
    {
      "cell_type": "code",
      "metadata": {
        "id": "F8yadzvKt0kn",
        "colab": {
          "base_uri": "https://localhost:8080/",
          "height": 224
        },
        "outputId": "4afea998-c88f-4f91-b0f7-624fd44dcfc4"
      },
      "source": [
        "#random sampling for non-fraud cases\n",
        "nonfraud_sample = nonfraud_cases.sample(492)\n",
        "nonfraud_sample.head()"
      ],
      "execution_count": null,
      "outputs": [
        {
          "output_type": "execute_result",
          "data": {
            "text/html": [
              "<div>\n",
              "<style scoped>\n",
              "    .dataframe tbody tr th:only-of-type {\n",
              "        vertical-align: middle;\n",
              "    }\n",
              "\n",
              "    .dataframe tbody tr th {\n",
              "        vertical-align: top;\n",
              "    }\n",
              "\n",
              "    .dataframe thead th {\n",
              "        text-align: right;\n",
              "    }\n",
              "</style>\n",
              "<table border=\"1\" class=\"dataframe\">\n",
              "  <thead>\n",
              "    <tr style=\"text-align: right;\">\n",
              "      <th></th>\n",
              "      <th>V1</th>\n",
              "      <th>V2</th>\n",
              "      <th>V3</th>\n",
              "      <th>V4</th>\n",
              "      <th>V5</th>\n",
              "      <th>V6</th>\n",
              "      <th>V7</th>\n",
              "      <th>V8</th>\n",
              "      <th>V9</th>\n",
              "      <th>V10</th>\n",
              "      <th>V11</th>\n",
              "      <th>V12</th>\n",
              "      <th>V13</th>\n",
              "      <th>V14</th>\n",
              "      <th>V15</th>\n",
              "      <th>V16</th>\n",
              "      <th>V17</th>\n",
              "      <th>V18</th>\n",
              "      <th>V19</th>\n",
              "      <th>V20</th>\n",
              "      <th>V21</th>\n",
              "      <th>V22</th>\n",
              "      <th>V23</th>\n",
              "      <th>V24</th>\n",
              "      <th>V25</th>\n",
              "      <th>V26</th>\n",
              "      <th>V27</th>\n",
              "      <th>V28</th>\n",
              "      <th>Amount</th>\n",
              "      <th>Class</th>\n",
              "    </tr>\n",
              "  </thead>\n",
              "  <tbody>\n",
              "    <tr>\n",
              "      <th>226354</th>\n",
              "      <td>-8.215276</td>\n",
              "      <td>7.701769</td>\n",
              "      <td>-5.202062</td>\n",
              "      <td>2.423779</td>\n",
              "      <td>-0.883941</td>\n",
              "      <td>3.361645</td>\n",
              "      <td>-8.631310</td>\n",
              "      <td>-19.195425</td>\n",
              "      <td>-3.016104</td>\n",
              "      <td>-0.509043</td>\n",
              "      <td>-2.222499</td>\n",
              "      <td>2.381455</td>\n",
              "      <td>-0.336140</td>\n",
              "      <td>3.822102</td>\n",
              "      <td>-1.891492</td>\n",
              "      <td>1.828693</td>\n",
              "      <td>0.709274</td>\n",
              "      <td>-0.309681</td>\n",
              "      <td>-3.058459</td>\n",
              "      <td>3.733849</td>\n",
              "      <td>-6.379394</td>\n",
              "      <td>2.813436</td>\n",
              "      <td>2.164819</td>\n",
              "      <td>0.418477</td>\n",
              "      <td>-0.434896</td>\n",
              "      <td>-0.252022</td>\n",
              "      <td>-1.176715</td>\n",
              "      <td>-0.417892</td>\n",
              "      <td>0.76</td>\n",
              "      <td>0</td>\n",
              "    </tr>\n",
              "    <tr>\n",
              "      <th>172875</th>\n",
              "      <td>-1.382063</td>\n",
              "      <td>-0.111050</td>\n",
              "      <td>1.104098</td>\n",
              "      <td>-0.560118</td>\n",
              "      <td>-0.093115</td>\n",
              "      <td>0.012636</td>\n",
              "      <td>-0.344526</td>\n",
              "      <td>0.694144</td>\n",
              "      <td>0.350560</td>\n",
              "      <td>-0.914715</td>\n",
              "      <td>-1.465658</td>\n",
              "      <td>0.225752</td>\n",
              "      <td>0.707530</td>\n",
              "      <td>-0.190921</td>\n",
              "      <td>0.393234</td>\n",
              "      <td>0.855317</td>\n",
              "      <td>-0.721086</td>\n",
              "      <td>0.400899</td>\n",
              "      <td>-0.376233</td>\n",
              "      <td>0.392203</td>\n",
              "      <td>0.217507</td>\n",
              "      <td>0.280226</td>\n",
              "      <td>0.180627</td>\n",
              "      <td>0.499223</td>\n",
              "      <td>-0.521855</td>\n",
              "      <td>0.324805</td>\n",
              "      <td>0.245258</td>\n",
              "      <td>0.074518</td>\n",
              "      <td>94.85</td>\n",
              "      <td>0</td>\n",
              "    </tr>\n",
              "    <tr>\n",
              "      <th>66599</th>\n",
              "      <td>-1.099954</td>\n",
              "      <td>0.514503</td>\n",
              "      <td>1.376853</td>\n",
              "      <td>-0.560267</td>\n",
              "      <td>-0.374602</td>\n",
              "      <td>0.168371</td>\n",
              "      <td>0.296586</td>\n",
              "      <td>0.389411</td>\n",
              "      <td>-1.470106</td>\n",
              "      <td>-0.470659</td>\n",
              "      <td>-1.992088</td>\n",
              "      <td>0.366818</td>\n",
              "      <td>1.458471</td>\n",
              "      <td>-0.401423</td>\n",
              "      <td>-1.254951</td>\n",
              "      <td>-1.480012</td>\n",
              "      <td>-0.150436</td>\n",
              "      <td>1.244734</td>\n",
              "      <td>-0.951046</td>\n",
              "      <td>-0.394879</td>\n",
              "      <td>-0.325725</td>\n",
              "      <td>-0.520998</td>\n",
              "      <td>-0.255806</td>\n",
              "      <td>-0.450509</td>\n",
              "      <td>0.849286</td>\n",
              "      <td>-0.322742</td>\n",
              "      <td>-0.059319</td>\n",
              "      <td>-0.005995</td>\n",
              "      <td>76.04</td>\n",
              "      <td>0</td>\n",
              "    </tr>\n",
              "    <tr>\n",
              "      <th>236226</th>\n",
              "      <td>-2.249486</td>\n",
              "      <td>0.081739</td>\n",
              "      <td>0.441904</td>\n",
              "      <td>1.721977</td>\n",
              "      <td>-0.180580</td>\n",
              "      <td>-0.706050</td>\n",
              "      <td>-0.312720</td>\n",
              "      <td>0.690355</td>\n",
              "      <td>0.233285</td>\n",
              "      <td>-0.439941</td>\n",
              "      <td>-1.256395</td>\n",
              "      <td>0.783574</td>\n",
              "      <td>-0.075629</td>\n",
              "      <td>0.197456</td>\n",
              "      <td>-0.969207</td>\n",
              "      <td>-0.735345</td>\n",
              "      <td>0.710080</td>\n",
              "      <td>-0.764719</td>\n",
              "      <td>1.147030</td>\n",
              "      <td>-1.164660</td>\n",
              "      <td>-0.516668</td>\n",
              "      <td>-0.579222</td>\n",
              "      <td>1.407223</td>\n",
              "      <td>0.336601</td>\n",
              "      <td>-0.806343</td>\n",
              "      <td>-1.031327</td>\n",
              "      <td>0.054091</td>\n",
              "      <td>-0.113703</td>\n",
              "      <td>21.85</td>\n",
              "      <td>0</td>\n",
              "    </tr>\n",
              "    <tr>\n",
              "      <th>128839</th>\n",
              "      <td>1.069315</td>\n",
              "      <td>-0.782245</td>\n",
              "      <td>1.304065</td>\n",
              "      <td>0.622999</td>\n",
              "      <td>-1.361309</td>\n",
              "      <td>0.355347</td>\n",
              "      <td>-0.913096</td>\n",
              "      <td>0.237361</td>\n",
              "      <td>1.803378</td>\n",
              "      <td>-0.587196</td>\n",
              "      <td>-1.633971</td>\n",
              "      <td>0.585880</td>\n",
              "      <td>-0.280237</td>\n",
              "      <td>-1.051778</td>\n",
              "      <td>-1.542621</td>\n",
              "      <td>-0.422154</td>\n",
              "      <td>0.419685</td>\n",
              "      <td>-0.598998</td>\n",
              "      <td>0.832134</td>\n",
              "      <td>0.021733</td>\n",
              "      <td>-0.226950</td>\n",
              "      <td>-0.322498</td>\n",
              "      <td>-0.082492</td>\n",
              "      <td>0.139206</td>\n",
              "      <td>0.266635</td>\n",
              "      <td>1.045127</td>\n",
              "      <td>-0.017707</td>\n",
              "      <td>0.022284</td>\n",
              "      <td>70.00</td>\n",
              "      <td>0</td>\n",
              "    </tr>\n",
              "  </tbody>\n",
              "</table>\n",
              "</div>"
            ],
            "text/plain": [
              "              V1        V2        V3  ...       V28  Amount  Class\n",
              "226354 -8.215276  7.701769 -5.202062  ... -0.417892    0.76      0\n",
              "172875 -1.382063 -0.111050  1.104098  ...  0.074518   94.85      0\n",
              "66599  -1.099954  0.514503  1.376853  ... -0.005995   76.04      0\n",
              "236226 -2.249486  0.081739  0.441904  ... -0.113703   21.85      0\n",
              "128839  1.069315 -0.782245  1.304065  ...  0.022284   70.00      0\n",
              "\n",
              "[5 rows x 30 columns]"
            ]
          },
          "metadata": {
            "tags": []
          },
          "execution_count": 72
        }
      ]
    },
    {
      "cell_type": "code",
      "metadata": {
        "id": "Lr776abyursL",
        "colab": {
          "base_uri": "https://localhost:8080/",
          "height": 224
        },
        "outputId": "cf874b47-f1a6-4b64-9dbe-8fefc8c400ad"
      },
      "source": [
        "#concatenating two dataframes into new dataset\n",
        "newdf = pd.concat([nonfraud_sample,fraud_cases],axis=0)\n",
        "newdf.head()"
      ],
      "execution_count": null,
      "outputs": [
        {
          "output_type": "execute_result",
          "data": {
            "text/html": [
              "<div>\n",
              "<style scoped>\n",
              "    .dataframe tbody tr th:only-of-type {\n",
              "        vertical-align: middle;\n",
              "    }\n",
              "\n",
              "    .dataframe tbody tr th {\n",
              "        vertical-align: top;\n",
              "    }\n",
              "\n",
              "    .dataframe thead th {\n",
              "        text-align: right;\n",
              "    }\n",
              "</style>\n",
              "<table border=\"1\" class=\"dataframe\">\n",
              "  <thead>\n",
              "    <tr style=\"text-align: right;\">\n",
              "      <th></th>\n",
              "      <th>V1</th>\n",
              "      <th>V2</th>\n",
              "      <th>V3</th>\n",
              "      <th>V4</th>\n",
              "      <th>V5</th>\n",
              "      <th>V6</th>\n",
              "      <th>V7</th>\n",
              "      <th>V8</th>\n",
              "      <th>V9</th>\n",
              "      <th>V10</th>\n",
              "      <th>V11</th>\n",
              "      <th>V12</th>\n",
              "      <th>V13</th>\n",
              "      <th>V14</th>\n",
              "      <th>V15</th>\n",
              "      <th>V16</th>\n",
              "      <th>V17</th>\n",
              "      <th>V18</th>\n",
              "      <th>V19</th>\n",
              "      <th>V20</th>\n",
              "      <th>V21</th>\n",
              "      <th>V22</th>\n",
              "      <th>V23</th>\n",
              "      <th>V24</th>\n",
              "      <th>V25</th>\n",
              "      <th>V26</th>\n",
              "      <th>V27</th>\n",
              "      <th>V28</th>\n",
              "      <th>Amount</th>\n",
              "      <th>Class</th>\n",
              "    </tr>\n",
              "  </thead>\n",
              "  <tbody>\n",
              "    <tr>\n",
              "      <th>226354</th>\n",
              "      <td>-8.215276</td>\n",
              "      <td>7.701769</td>\n",
              "      <td>-5.202062</td>\n",
              "      <td>2.423779</td>\n",
              "      <td>-0.883941</td>\n",
              "      <td>3.361645</td>\n",
              "      <td>-8.631310</td>\n",
              "      <td>-19.195425</td>\n",
              "      <td>-3.016104</td>\n",
              "      <td>-0.509043</td>\n",
              "      <td>-2.222499</td>\n",
              "      <td>2.381455</td>\n",
              "      <td>-0.336140</td>\n",
              "      <td>3.822102</td>\n",
              "      <td>-1.891492</td>\n",
              "      <td>1.828693</td>\n",
              "      <td>0.709274</td>\n",
              "      <td>-0.309681</td>\n",
              "      <td>-3.058459</td>\n",
              "      <td>3.733849</td>\n",
              "      <td>-6.379394</td>\n",
              "      <td>2.813436</td>\n",
              "      <td>2.164819</td>\n",
              "      <td>0.418477</td>\n",
              "      <td>-0.434896</td>\n",
              "      <td>-0.252022</td>\n",
              "      <td>-1.176715</td>\n",
              "      <td>-0.417892</td>\n",
              "      <td>0.76</td>\n",
              "      <td>0</td>\n",
              "    </tr>\n",
              "    <tr>\n",
              "      <th>172875</th>\n",
              "      <td>-1.382063</td>\n",
              "      <td>-0.111050</td>\n",
              "      <td>1.104098</td>\n",
              "      <td>-0.560118</td>\n",
              "      <td>-0.093115</td>\n",
              "      <td>0.012636</td>\n",
              "      <td>-0.344526</td>\n",
              "      <td>0.694144</td>\n",
              "      <td>0.350560</td>\n",
              "      <td>-0.914715</td>\n",
              "      <td>-1.465658</td>\n",
              "      <td>0.225752</td>\n",
              "      <td>0.707530</td>\n",
              "      <td>-0.190921</td>\n",
              "      <td>0.393234</td>\n",
              "      <td>0.855317</td>\n",
              "      <td>-0.721086</td>\n",
              "      <td>0.400899</td>\n",
              "      <td>-0.376233</td>\n",
              "      <td>0.392203</td>\n",
              "      <td>0.217507</td>\n",
              "      <td>0.280226</td>\n",
              "      <td>0.180627</td>\n",
              "      <td>0.499223</td>\n",
              "      <td>-0.521855</td>\n",
              "      <td>0.324805</td>\n",
              "      <td>0.245258</td>\n",
              "      <td>0.074518</td>\n",
              "      <td>94.85</td>\n",
              "      <td>0</td>\n",
              "    </tr>\n",
              "    <tr>\n",
              "      <th>66599</th>\n",
              "      <td>-1.099954</td>\n",
              "      <td>0.514503</td>\n",
              "      <td>1.376853</td>\n",
              "      <td>-0.560267</td>\n",
              "      <td>-0.374602</td>\n",
              "      <td>0.168371</td>\n",
              "      <td>0.296586</td>\n",
              "      <td>0.389411</td>\n",
              "      <td>-1.470106</td>\n",
              "      <td>-0.470659</td>\n",
              "      <td>-1.992088</td>\n",
              "      <td>0.366818</td>\n",
              "      <td>1.458471</td>\n",
              "      <td>-0.401423</td>\n",
              "      <td>-1.254951</td>\n",
              "      <td>-1.480012</td>\n",
              "      <td>-0.150436</td>\n",
              "      <td>1.244734</td>\n",
              "      <td>-0.951046</td>\n",
              "      <td>-0.394879</td>\n",
              "      <td>-0.325725</td>\n",
              "      <td>-0.520998</td>\n",
              "      <td>-0.255806</td>\n",
              "      <td>-0.450509</td>\n",
              "      <td>0.849286</td>\n",
              "      <td>-0.322742</td>\n",
              "      <td>-0.059319</td>\n",
              "      <td>-0.005995</td>\n",
              "      <td>76.04</td>\n",
              "      <td>0</td>\n",
              "    </tr>\n",
              "    <tr>\n",
              "      <th>236226</th>\n",
              "      <td>-2.249486</td>\n",
              "      <td>0.081739</td>\n",
              "      <td>0.441904</td>\n",
              "      <td>1.721977</td>\n",
              "      <td>-0.180580</td>\n",
              "      <td>-0.706050</td>\n",
              "      <td>-0.312720</td>\n",
              "      <td>0.690355</td>\n",
              "      <td>0.233285</td>\n",
              "      <td>-0.439941</td>\n",
              "      <td>-1.256395</td>\n",
              "      <td>0.783574</td>\n",
              "      <td>-0.075629</td>\n",
              "      <td>0.197456</td>\n",
              "      <td>-0.969207</td>\n",
              "      <td>-0.735345</td>\n",
              "      <td>0.710080</td>\n",
              "      <td>-0.764719</td>\n",
              "      <td>1.147030</td>\n",
              "      <td>-1.164660</td>\n",
              "      <td>-0.516668</td>\n",
              "      <td>-0.579222</td>\n",
              "      <td>1.407223</td>\n",
              "      <td>0.336601</td>\n",
              "      <td>-0.806343</td>\n",
              "      <td>-1.031327</td>\n",
              "      <td>0.054091</td>\n",
              "      <td>-0.113703</td>\n",
              "      <td>21.85</td>\n",
              "      <td>0</td>\n",
              "    </tr>\n",
              "    <tr>\n",
              "      <th>128839</th>\n",
              "      <td>1.069315</td>\n",
              "      <td>-0.782245</td>\n",
              "      <td>1.304065</td>\n",
              "      <td>0.622999</td>\n",
              "      <td>-1.361309</td>\n",
              "      <td>0.355347</td>\n",
              "      <td>-0.913096</td>\n",
              "      <td>0.237361</td>\n",
              "      <td>1.803378</td>\n",
              "      <td>-0.587196</td>\n",
              "      <td>-1.633971</td>\n",
              "      <td>0.585880</td>\n",
              "      <td>-0.280237</td>\n",
              "      <td>-1.051778</td>\n",
              "      <td>-1.542621</td>\n",
              "      <td>-0.422154</td>\n",
              "      <td>0.419685</td>\n",
              "      <td>-0.598998</td>\n",
              "      <td>0.832134</td>\n",
              "      <td>0.021733</td>\n",
              "      <td>-0.226950</td>\n",
              "      <td>-0.322498</td>\n",
              "      <td>-0.082492</td>\n",
              "      <td>0.139206</td>\n",
              "      <td>0.266635</td>\n",
              "      <td>1.045127</td>\n",
              "      <td>-0.017707</td>\n",
              "      <td>0.022284</td>\n",
              "      <td>70.00</td>\n",
              "      <td>0</td>\n",
              "    </tr>\n",
              "  </tbody>\n",
              "</table>\n",
              "</div>"
            ],
            "text/plain": [
              "              V1        V2        V3  ...       V28  Amount  Class\n",
              "226354 -8.215276  7.701769 -5.202062  ... -0.417892    0.76      0\n",
              "172875 -1.382063 -0.111050  1.104098  ...  0.074518   94.85      0\n",
              "66599  -1.099954  0.514503  1.376853  ... -0.005995   76.04      0\n",
              "236226 -2.249486  0.081739  0.441904  ... -0.113703   21.85      0\n",
              "128839  1.069315 -0.782245  1.304065  ...  0.022284   70.00      0\n",
              "\n",
              "[5 rows x 30 columns]"
            ]
          },
          "metadata": {
            "tags": []
          },
          "execution_count": 73
        }
      ]
    },
    {
      "cell_type": "code",
      "metadata": {
        "id": "4C5EMCR1wnLC",
        "colab": {
          "base_uri": "https://localhost:8080/",
          "height": 224
        },
        "outputId": "f5a72cdf-5b67-4b26-895e-dbd0618f8ddc"
      },
      "source": [
        "newdf.tail()"
      ],
      "execution_count": null,
      "outputs": [
        {
          "output_type": "execute_result",
          "data": {
            "text/html": [
              "<div>\n",
              "<style scoped>\n",
              "    .dataframe tbody tr th:only-of-type {\n",
              "        vertical-align: middle;\n",
              "    }\n",
              "\n",
              "    .dataframe tbody tr th {\n",
              "        vertical-align: top;\n",
              "    }\n",
              "\n",
              "    .dataframe thead th {\n",
              "        text-align: right;\n",
              "    }\n",
              "</style>\n",
              "<table border=\"1\" class=\"dataframe\">\n",
              "  <thead>\n",
              "    <tr style=\"text-align: right;\">\n",
              "      <th></th>\n",
              "      <th>V1</th>\n",
              "      <th>V2</th>\n",
              "      <th>V3</th>\n",
              "      <th>V4</th>\n",
              "      <th>V5</th>\n",
              "      <th>V6</th>\n",
              "      <th>V7</th>\n",
              "      <th>V8</th>\n",
              "      <th>V9</th>\n",
              "      <th>V10</th>\n",
              "      <th>V11</th>\n",
              "      <th>V12</th>\n",
              "      <th>V13</th>\n",
              "      <th>V14</th>\n",
              "      <th>V15</th>\n",
              "      <th>V16</th>\n",
              "      <th>V17</th>\n",
              "      <th>V18</th>\n",
              "      <th>V19</th>\n",
              "      <th>V20</th>\n",
              "      <th>V21</th>\n",
              "      <th>V22</th>\n",
              "      <th>V23</th>\n",
              "      <th>V24</th>\n",
              "      <th>V25</th>\n",
              "      <th>V26</th>\n",
              "      <th>V27</th>\n",
              "      <th>V28</th>\n",
              "      <th>Amount</th>\n",
              "      <th>Class</th>\n",
              "    </tr>\n",
              "  </thead>\n",
              "  <tbody>\n",
              "    <tr>\n",
              "      <th>279863</th>\n",
              "      <td>-1.927883</td>\n",
              "      <td>1.125653</td>\n",
              "      <td>-4.518331</td>\n",
              "      <td>1.749293</td>\n",
              "      <td>-1.566487</td>\n",
              "      <td>-2.010494</td>\n",
              "      <td>-0.882850</td>\n",
              "      <td>0.697211</td>\n",
              "      <td>-2.064945</td>\n",
              "      <td>-5.587794</td>\n",
              "      <td>2.115795</td>\n",
              "      <td>-5.417424</td>\n",
              "      <td>-1.235123</td>\n",
              "      <td>-6.665177</td>\n",
              "      <td>0.401701</td>\n",
              "      <td>-2.897825</td>\n",
              "      <td>-4.570529</td>\n",
              "      <td>-1.315147</td>\n",
              "      <td>0.391167</td>\n",
              "      <td>1.252967</td>\n",
              "      <td>0.778584</td>\n",
              "      <td>-0.319189</td>\n",
              "      <td>0.639419</td>\n",
              "      <td>-0.294885</td>\n",
              "      <td>0.537503</td>\n",
              "      <td>0.788395</td>\n",
              "      <td>0.292680</td>\n",
              "      <td>0.147968</td>\n",
              "      <td>390.00</td>\n",
              "      <td>1</td>\n",
              "    </tr>\n",
              "    <tr>\n",
              "      <th>280143</th>\n",
              "      <td>1.378559</td>\n",
              "      <td>1.289381</td>\n",
              "      <td>-5.004247</td>\n",
              "      <td>1.411850</td>\n",
              "      <td>0.442581</td>\n",
              "      <td>-1.326536</td>\n",
              "      <td>-1.413170</td>\n",
              "      <td>0.248525</td>\n",
              "      <td>-1.127396</td>\n",
              "      <td>-3.232153</td>\n",
              "      <td>2.858466</td>\n",
              "      <td>-3.096915</td>\n",
              "      <td>-0.792532</td>\n",
              "      <td>-5.210141</td>\n",
              "      <td>-0.613803</td>\n",
              "      <td>-2.155297</td>\n",
              "      <td>-3.267116</td>\n",
              "      <td>-0.688505</td>\n",
              "      <td>0.737657</td>\n",
              "      <td>0.226138</td>\n",
              "      <td>0.370612</td>\n",
              "      <td>0.028234</td>\n",
              "      <td>-0.145640</td>\n",
              "      <td>-0.081049</td>\n",
              "      <td>0.521875</td>\n",
              "      <td>0.739467</td>\n",
              "      <td>0.389152</td>\n",
              "      <td>0.186637</td>\n",
              "      <td>0.76</td>\n",
              "      <td>1</td>\n",
              "    </tr>\n",
              "    <tr>\n",
              "      <th>280149</th>\n",
              "      <td>-0.676143</td>\n",
              "      <td>1.126366</td>\n",
              "      <td>-2.213700</td>\n",
              "      <td>0.468308</td>\n",
              "      <td>-1.120541</td>\n",
              "      <td>-0.003346</td>\n",
              "      <td>-2.234739</td>\n",
              "      <td>1.210158</td>\n",
              "      <td>-0.652250</td>\n",
              "      <td>-3.463891</td>\n",
              "      <td>1.794969</td>\n",
              "      <td>-2.775022</td>\n",
              "      <td>-0.418950</td>\n",
              "      <td>-4.057162</td>\n",
              "      <td>-0.712616</td>\n",
              "      <td>-1.603015</td>\n",
              "      <td>-5.035326</td>\n",
              "      <td>-0.507000</td>\n",
              "      <td>0.266272</td>\n",
              "      <td>0.247968</td>\n",
              "      <td>0.751826</td>\n",
              "      <td>0.834108</td>\n",
              "      <td>0.190944</td>\n",
              "      <td>0.032070</td>\n",
              "      <td>-0.739695</td>\n",
              "      <td>0.471111</td>\n",
              "      <td>0.385107</td>\n",
              "      <td>0.194361</td>\n",
              "      <td>77.89</td>\n",
              "      <td>1</td>\n",
              "    </tr>\n",
              "    <tr>\n",
              "      <th>281144</th>\n",
              "      <td>-3.113832</td>\n",
              "      <td>0.585864</td>\n",
              "      <td>-5.399730</td>\n",
              "      <td>1.817092</td>\n",
              "      <td>-0.840618</td>\n",
              "      <td>-2.943548</td>\n",
              "      <td>-2.208002</td>\n",
              "      <td>1.058733</td>\n",
              "      <td>-1.632333</td>\n",
              "      <td>-5.245984</td>\n",
              "      <td>1.933520</td>\n",
              "      <td>-5.030465</td>\n",
              "      <td>-1.127455</td>\n",
              "      <td>-6.416628</td>\n",
              "      <td>0.141237</td>\n",
              "      <td>-2.549498</td>\n",
              "      <td>-4.614717</td>\n",
              "      <td>-1.478138</td>\n",
              "      <td>-0.035480</td>\n",
              "      <td>0.306271</td>\n",
              "      <td>0.583276</td>\n",
              "      <td>-0.269209</td>\n",
              "      <td>-0.456108</td>\n",
              "      <td>-0.183659</td>\n",
              "      <td>-0.328168</td>\n",
              "      <td>0.606116</td>\n",
              "      <td>0.884876</td>\n",
              "      <td>-0.253700</td>\n",
              "      <td>245.00</td>\n",
              "      <td>1</td>\n",
              "    </tr>\n",
              "    <tr>\n",
              "      <th>281674</th>\n",
              "      <td>1.991976</td>\n",
              "      <td>0.158476</td>\n",
              "      <td>-2.583441</td>\n",
              "      <td>0.408670</td>\n",
              "      <td>1.151147</td>\n",
              "      <td>-0.096695</td>\n",
              "      <td>0.223050</td>\n",
              "      <td>-0.068384</td>\n",
              "      <td>0.577829</td>\n",
              "      <td>-0.888722</td>\n",
              "      <td>0.491140</td>\n",
              "      <td>0.728903</td>\n",
              "      <td>0.380428</td>\n",
              "      <td>-1.948883</td>\n",
              "      <td>-0.832498</td>\n",
              "      <td>0.519436</td>\n",
              "      <td>0.903562</td>\n",
              "      <td>1.197315</td>\n",
              "      <td>0.593509</td>\n",
              "      <td>-0.017652</td>\n",
              "      <td>-0.164350</td>\n",
              "      <td>-0.295135</td>\n",
              "      <td>-0.072173</td>\n",
              "      <td>-0.450261</td>\n",
              "      <td>0.313267</td>\n",
              "      <td>-0.289617</td>\n",
              "      <td>0.002988</td>\n",
              "      <td>-0.015309</td>\n",
              "      <td>42.53</td>\n",
              "      <td>1</td>\n",
              "    </tr>\n",
              "  </tbody>\n",
              "</table>\n",
              "</div>"
            ],
            "text/plain": [
              "              V1        V2        V3  ...       V28  Amount  Class\n",
              "279863 -1.927883  1.125653 -4.518331  ...  0.147968  390.00      1\n",
              "280143  1.378559  1.289381 -5.004247  ...  0.186637    0.76      1\n",
              "280149 -0.676143  1.126366 -2.213700  ...  0.194361   77.89      1\n",
              "281144 -3.113832  0.585864 -5.399730  ... -0.253700  245.00      1\n",
              "281674  1.991976  0.158476 -2.583441  ... -0.015309   42.53      1\n",
              "\n",
              "[5 rows x 30 columns]"
            ]
          },
          "metadata": {
            "tags": []
          },
          "execution_count": 74
        }
      ]
    },
    {
      "cell_type": "code",
      "metadata": {
        "id": "WzcaRmITwrp6",
        "colab": {
          "base_uri": "https://localhost:8080/"
        },
        "outputId": "ce0c7990-a5fb-4a77-cfd7-e59c73c3e6aa"
      },
      "source": [
        "newdf['Class'].value_counts()"
      ],
      "execution_count": null,
      "outputs": [
        {
          "output_type": "execute_result",
          "data": {
            "text/plain": [
              "1    492\n",
              "0    492\n",
              "Name: Class, dtype: int64"
            ]
          },
          "metadata": {
            "tags": []
          },
          "execution_count": 75
        }
      ]
    },
    {
      "cell_type": "markdown",
      "metadata": {
        "id": "VxelNYefwwv3"
      },
      "source": [
        "**Analysis:** Now we have unifornly distributed datasets"
      ]
    },
    {
      "cell_type": "code",
      "metadata": {
        "id": "m9jIPHO3yVBw",
        "colab": {
          "base_uri": "https://localhost:8080/",
          "height": 162
        },
        "outputId": "fe3ab7fd-f9d2-4a3c-c1ac-66187fdfa7dc"
      },
      "source": [
        "#comparing both transaction\n",
        "newdf.groupby('Class').mean()"
      ],
      "execution_count": null,
      "outputs": [
        {
          "output_type": "execute_result",
          "data": {
            "text/html": [
              "<div>\n",
              "<style scoped>\n",
              "    .dataframe tbody tr th:only-of-type {\n",
              "        vertical-align: middle;\n",
              "    }\n",
              "\n",
              "    .dataframe tbody tr th {\n",
              "        vertical-align: top;\n",
              "    }\n",
              "\n",
              "    .dataframe thead th {\n",
              "        text-align: right;\n",
              "    }\n",
              "</style>\n",
              "<table border=\"1\" class=\"dataframe\">\n",
              "  <thead>\n",
              "    <tr style=\"text-align: right;\">\n",
              "      <th></th>\n",
              "      <th>V1</th>\n",
              "      <th>V2</th>\n",
              "      <th>V3</th>\n",
              "      <th>V4</th>\n",
              "      <th>V5</th>\n",
              "      <th>V6</th>\n",
              "      <th>V7</th>\n",
              "      <th>V8</th>\n",
              "      <th>V9</th>\n",
              "      <th>V10</th>\n",
              "      <th>V11</th>\n",
              "      <th>V12</th>\n",
              "      <th>V13</th>\n",
              "      <th>V14</th>\n",
              "      <th>V15</th>\n",
              "      <th>V16</th>\n",
              "      <th>V17</th>\n",
              "      <th>V18</th>\n",
              "      <th>V19</th>\n",
              "      <th>V20</th>\n",
              "      <th>V21</th>\n",
              "      <th>V22</th>\n",
              "      <th>V23</th>\n",
              "      <th>V24</th>\n",
              "      <th>V25</th>\n",
              "      <th>V26</th>\n",
              "      <th>V27</th>\n",
              "      <th>V28</th>\n",
              "      <th>Amount</th>\n",
              "    </tr>\n",
              "    <tr>\n",
              "      <th>Class</th>\n",
              "      <th></th>\n",
              "      <th></th>\n",
              "      <th></th>\n",
              "      <th></th>\n",
              "      <th></th>\n",
              "      <th></th>\n",
              "      <th></th>\n",
              "      <th></th>\n",
              "      <th></th>\n",
              "      <th></th>\n",
              "      <th></th>\n",
              "      <th></th>\n",
              "      <th></th>\n",
              "      <th></th>\n",
              "      <th></th>\n",
              "      <th></th>\n",
              "      <th></th>\n",
              "      <th></th>\n",
              "      <th></th>\n",
              "      <th></th>\n",
              "      <th></th>\n",
              "      <th></th>\n",
              "      <th></th>\n",
              "      <th></th>\n",
              "      <th></th>\n",
              "      <th></th>\n",
              "      <th></th>\n",
              "      <th></th>\n",
              "      <th></th>\n",
              "    </tr>\n",
              "  </thead>\n",
              "  <tbody>\n",
              "    <tr>\n",
              "      <th>0</th>\n",
              "      <td>0.075133</td>\n",
              "      <td>0.048672</td>\n",
              "      <td>-0.021199</td>\n",
              "      <td>0.007893</td>\n",
              "      <td>0.010723</td>\n",
              "      <td>0.107172</td>\n",
              "      <td>0.083531</td>\n",
              "      <td>-0.066046</td>\n",
              "      <td>-0.014645</td>\n",
              "      <td>0.008904</td>\n",
              "      <td>0.021997</td>\n",
              "      <td>0.018259</td>\n",
              "      <td>0.034272</td>\n",
              "      <td>0.019937</td>\n",
              "      <td>-0.026237</td>\n",
              "      <td>-0.059096</td>\n",
              "      <td>0.034075</td>\n",
              "      <td>-0.023454</td>\n",
              "      <td>-0.053273</td>\n",
              "      <td>-0.011682</td>\n",
              "      <td>0.048714</td>\n",
              "      <td>0.004825</td>\n",
              "      <td>0.013225</td>\n",
              "      <td>0.018112</td>\n",
              "      <td>0.025521</td>\n",
              "      <td>-0.000563</td>\n",
              "      <td>-0.025360</td>\n",
              "      <td>-0.015632</td>\n",
              "      <td>92.512805</td>\n",
              "    </tr>\n",
              "    <tr>\n",
              "      <th>1</th>\n",
              "      <td>-4.771948</td>\n",
              "      <td>3.623778</td>\n",
              "      <td>-7.033281</td>\n",
              "      <td>4.542029</td>\n",
              "      <td>-3.151225</td>\n",
              "      <td>-1.397737</td>\n",
              "      <td>-5.568731</td>\n",
              "      <td>0.570636</td>\n",
              "      <td>-2.581123</td>\n",
              "      <td>-5.676883</td>\n",
              "      <td>3.800173</td>\n",
              "      <td>-6.259393</td>\n",
              "      <td>-0.109334</td>\n",
              "      <td>-6.971723</td>\n",
              "      <td>-0.092929</td>\n",
              "      <td>-4.139946</td>\n",
              "      <td>-6.665836</td>\n",
              "      <td>-2.246308</td>\n",
              "      <td>0.680659</td>\n",
              "      <td>0.372319</td>\n",
              "      <td>0.713588</td>\n",
              "      <td>0.014049</td>\n",
              "      <td>-0.040308</td>\n",
              "      <td>-0.105130</td>\n",
              "      <td>0.041449</td>\n",
              "      <td>0.051648</td>\n",
              "      <td>0.170575</td>\n",
              "      <td>0.075667</td>\n",
              "      <td>122.211321</td>\n",
              "    </tr>\n",
              "  </tbody>\n",
              "</table>\n",
              "</div>"
            ],
            "text/plain": [
              "             V1        V2        V3  ...       V27       V28      Amount\n",
              "Class                                ...                                \n",
              "0      0.075133  0.048672 -0.021199  ... -0.025360 -0.015632   92.512805\n",
              "1     -4.771948  3.623778 -7.033281  ...  0.170575  0.075667  122.211321\n",
              "\n",
              "[2 rows x 29 columns]"
            ]
          },
          "metadata": {
            "tags": []
          },
          "execution_count": 76
        }
      ]
    },
    {
      "cell_type": "markdown",
      "metadata": {
        "id": "hLpIn6lbzVx5"
      },
      "source": [
        "**Splitting the data into Feature and Target**\n",
        "\n",
        "x ---> independent variable\n",
        "\n",
        "y ---> dependent variable (target variable)"
      ]
    },
    {
      "cell_type": "code",
      "metadata": {
        "id": "qjBJ-wSMzesg",
        "colab": {
          "base_uri": "https://localhost:8080/"
        },
        "outputId": "7c967b62-70c5-4137-aec7-5267525b6808"
      },
      "source": [
        "#data split\n",
        "x = newdf.drop(columns='Class', axis = 1)\n",
        "y = newdf['Class']\n",
        "print(x)"
      ],
      "execution_count": null,
      "outputs": [
        {
          "output_type": "stream",
          "text": [
            "              V1        V2        V3  ...       V27       V28  Amount\n",
            "226354 -8.215276  7.701769 -5.202062  ... -1.176715 -0.417892    0.76\n",
            "172875 -1.382063 -0.111050  1.104098  ...  0.245258  0.074518   94.85\n",
            "66599  -1.099954  0.514503  1.376853  ... -0.059319 -0.005995   76.04\n",
            "236226 -2.249486  0.081739  0.441904  ...  0.054091 -0.113703   21.85\n",
            "128839  1.069315 -0.782245  1.304065  ... -0.017707  0.022284   70.00\n",
            "...          ...       ...       ...  ...       ...       ...     ...\n",
            "279863 -1.927883  1.125653 -4.518331  ...  0.292680  0.147968  390.00\n",
            "280143  1.378559  1.289381 -5.004247  ...  0.389152  0.186637    0.76\n",
            "280149 -0.676143  1.126366 -2.213700  ...  0.385107  0.194361   77.89\n",
            "281144 -3.113832  0.585864 -5.399730  ...  0.884876 -0.253700  245.00\n",
            "281674  1.991976  0.158476 -2.583441  ...  0.002988 -0.015309   42.53\n",
            "\n",
            "[984 rows x 29 columns]\n"
          ],
          "name": "stdout"
        }
      ]
    },
    {
      "cell_type": "code",
      "metadata": {
        "id": "Gg5_9Lj_0QFS",
        "colab": {
          "base_uri": "https://localhost:8080/"
        },
        "outputId": "3d45d4fa-c4a9-4868-a49e-29d9fc892d99"
      },
      "source": [
        "#y contains class labels\n",
        "print(y)"
      ],
      "execution_count": null,
      "outputs": [
        {
          "output_type": "stream",
          "text": [
            "226354    0\n",
            "172875    0\n",
            "66599     0\n",
            "236226    0\n",
            "128839    0\n",
            "         ..\n",
            "279863    1\n",
            "280143    1\n",
            "280149    1\n",
            "281144    1\n",
            "281674    1\n",
            "Name: Class, Length: 984, dtype: int64\n"
          ],
          "name": "stdout"
        }
      ]
    },
    {
      "cell_type": "markdown",
      "metadata": {
        "id": "-1v6fYbj2gqZ"
      },
      "source": [
        "**Splitting data into Training data and Testing data**"
      ]
    },
    {
      "cell_type": "code",
      "metadata": {
        "id": "PnUhW9DU2PsS"
      },
      "source": [
        "x_train, x_test, y_train, y_test = train_test_split(x, y, test_size = 0.2,stratify=y, random_state = 0)"
      ],
      "execution_count": null,
      "outputs": []
    },
    {
      "cell_type": "code",
      "metadata": {
        "id": "iKqvqnug3da5",
        "colab": {
          "base_uri": "https://localhost:8080/"
        },
        "outputId": "394aa6ce-9d8b-4e32-f751-1024fbccd460"
      },
      "source": [
        "print(x.shape,x_train.shape,x_test.shape)"
      ],
      "execution_count": null,
      "outputs": [
        {
          "output_type": "stream",
          "text": [
            "(984, 29) (787, 29) (197, 29)\n"
          ],
          "name": "stdout"
        }
      ]
    },
    {
      "cell_type": "markdown",
      "metadata": {
        "id": "axWxWChR3xAu"
      },
      "source": [
        "**Modeling**\n",
        "\n"
      ]
    },
    {
      "cell_type": "markdown",
      "metadata": {
        "id": "mydLnjHY9NpQ"
      },
      "source": [
        "**Evaluation**\n",
        "\n",
        "The evaluation metrics we are going to use are the Accuracy Score Metric ,F1 Score Metric, and Confusion matrix.\n",
        "\n",
        "**Accuracy Score** = No.of correct predictions / Total no.of predictions\n",
        "\n",
        "**F1 score** = 2( (precision * recall) / (precision + recall) )\n",
        "\n",
        "**Confusion matrix:** is a visualization of a classification model that shows how well the model has predicted the outcomes when compared to the original ones."
      ]
    },
    {
      "cell_type": "markdown",
      "metadata": {
        "id": "KmUSnZU44jIm"
      },
      "source": [
        "**1. Decision Tree**"
      ]
    },
    {
      "cell_type": "code",
      "metadata": {
        "id": "-cKi4t2G3-hx",
        "colab": {
          "base_uri": "https://localhost:8080/"
        },
        "outputId": "183babe2-3786-4076-df5f-c1d9db907e0d"
      },
      "source": [
        "#Building Decision Tree\n",
        "tree_model = DecisionTreeClassifier(max_depth = 4, criterion = 'entropy')\n",
        "tree_model.fit(x_train, y_train)"
      ],
      "execution_count": null,
      "outputs": [
        {
          "output_type": "execute_result",
          "data": {
            "text/plain": [
              "DecisionTreeClassifier(ccp_alpha=0.0, class_weight=None, criterion='entropy',\n",
              "                       max_depth=4, max_features=None, max_leaf_nodes=None,\n",
              "                       min_impurity_decrease=0.0, min_impurity_split=None,\n",
              "                       min_samples_leaf=1, min_samples_split=2,\n",
              "                       min_weight_fraction_leaf=0.0, presort='deprecated',\n",
              "                       random_state=None, splitter='best')"
            ]
          },
          "metadata": {
            "tags": []
          },
          "execution_count": 81
        }
      ]
    },
    {
      "cell_type": "code",
      "metadata": {
        "id": "OjD2aLWr-ooN"
      },
      "source": [
        "tree_yhat = tree_model.predict(x_test)"
      ],
      "execution_count": null,
      "outputs": []
    },
    {
      "cell_type": "code",
      "metadata": {
        "id": "gu-QEGEL8mW5",
        "colab": {
          "base_uri": "https://localhost:8080/"
        },
        "outputId": "39ae8d43-5b3d-4850-9981-975969795f4b"
      },
      "source": [
        "#Accuracy Score\n",
        "print('Accuracy score of the Decision Tree model is {}'.format(accuracy_score(y_test, tree_yhat)))"
      ],
      "execution_count": null,
      "outputs": [
        {
          "output_type": "stream",
          "text": [
            "Accuracy score of the Decision Tree model is 0.9137055837563451\n"
          ],
          "name": "stdout"
        }
      ]
    },
    {
      "cell_type": "code",
      "metadata": {
        "id": "tScXhT6t-QsQ",
        "colab": {
          "base_uri": "https://localhost:8080/"
        },
        "outputId": "ccb97a33-0e2f-4e0c-90db-59238784df13"
      },
      "source": [
        "# F1 score\n",
        "print('F1 score of the Decision Tree model is {}'.format(f1_score(y_test, tree_yhat)))"
      ],
      "execution_count": null,
      "outputs": [
        {
          "output_type": "stream",
          "text": [
            "F1 score of the Decision Tree model is 0.907103825136612\n"
          ],
          "name": "stdout"
        }
      ]
    },
    {
      "cell_type": "code",
      "metadata": {
        "id": "2xJ_UJ5cBPit"
      },
      "source": [
        "# defining the plot function\n",
        "\n",
        "def plot_confusion_matrix(cm, classes, title, normalize = False, cmap = plt.cm.Blues):\n",
        "    title = 'Confusion Matrix of {}'.format(title)\n",
        "    if normalize:\n",
        "        cm = cm.astype(float) / cm.sum(axis=1)[:, np.newaxis]\n",
        "\n",
        "    plt.imshow(cm, interpolation = 'nearest', cmap = cmap)\n",
        "    plt.title(title)\n",
        "    plt.colorbar()\n",
        "    tick_marks = np.arange(len(classes))\n",
        "    plt.xticks(tick_marks, classes, rotation = 45)\n",
        "    plt.yticks(tick_marks, classes)\n",
        "\n",
        "    fmt = '.2f' if normalize else 'd'\n",
        "    thresh = cm.max() / 2.\n",
        "    for i, j in itertools.product(range(cm.shape[0]), range(cm.shape[1])):\n",
        "        plt.text(j, i, format(cm[i, j], fmt),\n",
        "                 horizontalalignment = 'center',\n",
        "                 color = 'white' if cm[i, j] > thresh else 'black')\n",
        "\n",
        "    plt.tight_layout()\n",
        "    plt.ylabel('True label')\n",
        "    plt.xlabel('Predicted label')"
      ],
      "execution_count": null,
      "outputs": []
    },
    {
      "cell_type": "code",
      "metadata": {
        "id": "uEJadHYWBR_8",
        "colab": {
          "base_uri": "https://localhost:8080/",
          "height": 229
        },
        "outputId": "94ee7e9f-44f4-4f31-c7f5-9b30d4f0ddd1"
      },
      "source": [
        "#confusion matrix\n",
        "tree_matrix = confusion_matrix(y_test, tree_yhat, labels = [0, 1])\n",
        "tree_cm_plot = plot_confusion_matrix(tree_matrix,\n",
        "                                classes = ['Non-fraud(0)','Fraud(1)'],\n",
        "                                normalize = False, title = 'Decision Tree')\n",
        "plt.savefig('tree_cm_plot.png')\n",
        "plt.show()"
      ],
      "execution_count": null,
      "outputs": [
        {
          "output_type": "error",
          "ename": "NameError",
          "evalue": "ignored",
          "traceback": [
            "\u001b[0;31m---------------------------------------------------------------------------\u001b[0m",
            "\u001b[0;31mNameError\u001b[0m                                 Traceback (most recent call last)",
            "\u001b[0;32m<ipython-input-1-9f51d912f176>\u001b[0m in \u001b[0;36m<module>\u001b[0;34m()\u001b[0m\n\u001b[1;32m      1\u001b[0m \u001b[0;31m#confusion matrix\u001b[0m\u001b[0;34m\u001b[0m\u001b[0;34m\u001b[0m\u001b[0;34m\u001b[0m\u001b[0m\n\u001b[0;32m----> 2\u001b[0;31m \u001b[0mtree_matrix\u001b[0m \u001b[0;34m=\u001b[0m \u001b[0mconfusion_matrix\u001b[0m\u001b[0;34m(\u001b[0m\u001b[0my_test\u001b[0m\u001b[0;34m,\u001b[0m \u001b[0mtree_yhat\u001b[0m\u001b[0;34m,\u001b[0m \u001b[0mlabels\u001b[0m \u001b[0;34m=\u001b[0m \u001b[0;34m[\u001b[0m\u001b[0;36m0\u001b[0m\u001b[0;34m,\u001b[0m \u001b[0;36m1\u001b[0m\u001b[0;34m]\u001b[0m\u001b[0;34m)\u001b[0m\u001b[0;34m\u001b[0m\u001b[0;34m\u001b[0m\u001b[0m\n\u001b[0m\u001b[1;32m      3\u001b[0m tree_cm_plot = plot_confusion_matrix(tree_matrix, \n\u001b[1;32m      4\u001b[0m                                 \u001b[0mclasses\u001b[0m \u001b[0;34m=\u001b[0m \u001b[0;34m[\u001b[0m\u001b[0;34m'Non-fraud(0)'\u001b[0m\u001b[0;34m,\u001b[0m\u001b[0;34m'Fraud(1)'\u001b[0m\u001b[0;34m]\u001b[0m\u001b[0;34m,\u001b[0m\u001b[0;34m\u001b[0m\u001b[0;34m\u001b[0m\u001b[0m\n\u001b[1;32m      5\u001b[0m                                 normalize = False, title = 'Decision Tree')\n",
            "\u001b[0;31mNameError\u001b[0m: name 'confusion_matrix' is not defined"
          ]
        }
      ]
    },
    {
      "cell_type": "markdown",
      "metadata": {
        "id": "rEs6IYsYB2E8"
      },
      "source": [
        "**2.K-Nearest Neighbors model (KNN)**"
      ]
    },
    {
      "cell_type": "code",
      "metadata": {
        "id": "BZN1DaJOB-WU",
        "colab": {
          "base_uri": "https://localhost:8080/"
        },
        "outputId": "69f783ec-e899-48dd-eab0-575345e238bd"
      },
      "source": [
        "#Building K-Nearest Neighbors\n",
        "\n",
        "n = 5\n",
        "\n",
        "knn = KNeighborsClassifier(n_neighbors = n)\n",
        "knn.fit(x_train, y_train)"
      ],
      "execution_count": null,
      "outputs": [
        {
          "output_type": "execute_result",
          "data": {
            "text/plain": [
              "KNeighborsClassifier(algorithm='auto', leaf_size=30, metric='minkowski',\n",
              "                     metric_params=None, n_jobs=None, n_neighbors=5, p=2,\n",
              "                     weights='uniform')"
            ]
          },
          "metadata": {
            "tags": []
          },
          "execution_count": 87
        }
      ]
    },
    {
      "cell_type": "code",
      "metadata": {
        "id": "e7v2CEimCd_e"
      },
      "source": [
        "knn_yhat = knn.predict(x_test)"
      ],
      "execution_count": null,
      "outputs": []
    },
    {
      "cell_type": "code",
      "metadata": {
        "id": "pKlOB7XlCgR3",
        "colab": {
          "base_uri": "https://localhost:8080/"
        },
        "outputId": "d87a6e2f-e9d4-452c-e0df-d47c882ba5da"
      },
      "source": [
        "#Accuracy Score\n",
        "print('Accuracy score of the KNN model is {}'.format(accuracy_score(y_test, knn_yhat)))"
      ],
      "execution_count": null,
      "outputs": [
        {
          "output_type": "stream",
          "text": [
            "Accuracy score of the KNN model is 0.8883248730964467\n"
          ],
          "name": "stdout"
        }
      ]
    },
    {
      "cell_type": "code",
      "metadata": {
        "id": "u4OdvGh6Ct24",
        "colab": {
          "base_uri": "https://localhost:8080/"
        },
        "outputId": "9426fb44-67c8-4d83-8ad6-492f1bef031d"
      },
      "source": [
        "#F1 Score\n",
        "print('F1 score of the KNN model is {}'.format(f1_score(y_test, knn_yhat)))"
      ],
      "execution_count": null,
      "outputs": [
        {
          "output_type": "stream",
          "text": [
            "F1 score of the KNN model is 0.8817204301075268\n"
          ],
          "name": "stdout"
        }
      ]
    },
    {
      "cell_type": "code",
      "metadata": {
        "id": "gfoq65wtC-Oq",
        "colab": {
          "base_uri": "https://localhost:8080/",
          "height": 311
        },
        "outputId": "371494c8-575f-4dd9-d3ac-82053e38fae6"
      },
      "source": [
        "#confusion matrix\n",
        "knn_matrix = confusion_matrix(y_test, knn_yhat, labels = [0, 1])\n",
        "knn_cm_plot = plot_confusion_matrix(knn_matrix,\n",
        "                                classes = ['Non-Default(0)','Default(1)'],\n",
        "                                normalize = False, title = 'KNN')\n",
        "plt.savefig('knn_cm_plot.png')\n",
        "plt.show()"
      ],
      "execution_count": null,
      "outputs": [
        {
          "output_type": "display_data",
          "data": {
            "image/png": "[encoded data removed]",
            "text/plain": [
              "<Figure size 432x288 with 2 Axes>"
            ]
          },
          "metadata": {
            "tags": [],
            "needs_background": "light"
          }
        }
      ]
    },
    {
      "cell_type": "markdown",
      "metadata": {
        "id": "aq8lyqw2DtIO"
      },
      "source": [
        "**3. Logistic Regression**"
      ]
    },
    {
      "cell_type": "code",
      "metadata": {
        "id": "9juvGr1gD3HG",
        "colab": {
          "base_uri": "https://localhost:8080/"
        },
        "outputId": "d05cf6fb-1fa9-4813-fd2f-5d563c401f35"
      },
      "source": [
        "#Building Logistic Regression\n",
        "lr = LogisticRegression()\n",
        "lr.fit(x_train, y_train)"
      ],
      "execution_count": null,
      "outputs": [
        {
          "output_type": "execute_result",
          "data": {
            "text/plain": [
              "LogisticRegression(C=1.0, class_weight=None, dual=False, fit_intercept=True,\n",
              "                   intercept_scaling=1, l1_ratio=None, max_iter=100,\n",
              "                   multi_class='auto', n_jobs=None, penalty='l2',\n",
              "                   random_state=None, solver='lbfgs', tol=0.0001, verbose=0,\n",
              "                   warm_start=False)"
            ]
          },
          "metadata": {
            "tags": []
          },
          "execution_count": 92
        }
      ]
    },
    {
      "cell_type": "code",
      "metadata": {
        "id": "3L0hWKFwEAZ0"
      },
      "source": [
        "lr_yhat = lr.predict(x_test)"
      ],
      "execution_count": null,
      "outputs": []
    },
    {
      "cell_type": "code",
      "metadata": {
        "id": "RSSRcu-hECnB",
        "colab": {
          "base_uri": "https://localhost:8080/"
        },
        "outputId": "fd075c78-fb9c-41f1-b7cb-cb5d3189a099"
      },
      "source": [
        "#Accuracy score\n",
        "print('Accuracy score of the Logistic Regression model is {}'.format(accuracy_score(y_test, lr_yhat)))"
      ],
      "execution_count": null,
      "outputs": [
        {
          "output_type": "stream",
          "text": [
            "Accuracy score of the Logistic Regression model is 0.9187817258883249\n"
          ],
          "name": "stdout"
        }
      ]
    },
    {
      "cell_type": "code",
      "metadata": {
        "id": "_uaiMr9lEQUb",
        "colab": {
          "base_uri": "https://localhost:8080/"
        },
        "outputId": "673a1777-6266-4bae-95e1-e906f9fd6a66"
      },
      "source": [
        "#F1 score\n",
        "print('F1 score of the Logistic Regression model is {}'.format(f1_score(y_test, lr_yhat)))"
      ],
      "execution_count": null,
      "outputs": [
        {
          "output_type": "stream",
          "text": [
            "F1 score of the Logistic Regression model is 0.9130434782608695\n"
          ],
          "name": "stdout"
        }
      ]
    },
    {
      "cell_type": "code",
      "metadata": {
        "id": "pCG9_vuKEVuw",
        "colab": {
          "base_uri": "https://localhost:8080/",
          "height": 311
        },
        "outputId": "5812cbce-8444-4732-aac0-1300767a6759"
      },
      "source": [
        "#Confusion matrix\n",
        "lr_matrix = confusion_matrix(y_test, lr_yhat, labels = [0, 1])\n",
        "lr_cm_plot = plot_confusion_matrix(lr_matrix,\n",
        "                                classes = ['Non-fraud(0)','fraud(1)'],\n",
        "                                normalize = False, title = 'Logistic Regression')\n",
        "plt.savefig('lr_cm_plot.png')\n",
        "plt.show()"
      ],
      "execution_count": null,
      "outputs": [
        {
          "output_type": "display_data",
          "data": {
            "image/png": "[encoded data removed]",
            "text/plain": [
              "<Figure size 432x288 with 2 Axes>"
            ]
          },
          "metadata": {
            "tags": [],
            "needs_background": "light"
          }
        }
      ]
    },
    {
      "cell_type": "markdown",
      "metadata": {
        "id": "_IbODO3_EnvK"
      },
      "source": [
        "**4.Support Vector Machine(SVM)**"
      ]
    },
    {
      "cell_type": "code",
      "metadata": {
        "id": "ZYF_pWlBExwC",
        "colab": {
          "base_uri": "https://localhost:8080/"
        },
        "outputId": "4383f494-1d12-4f2f-de84-2dbb44cf8cf8"
      },
      "source": [
        "# Building SVM\n",
        "svm = SVC()\n",
        "svm.fit(x_train, y_train)"
      ],
      "execution_count": null,
      "outputs": [
        {
          "output_type": "execute_result",
          "data": {
            "text/plain": [
              "SVC(C=1.0, break_ties=False, cache_size=200, class_weight=None, coef0=0.0,\n",
              "    decision_function_shape='ovr', degree=3, gamma='scale', kernel='rbf',\n",
              "    max_iter=-1, probability=False, random_state=None, shrinking=True,\n",
              "    tol=0.001, verbose=False)"
            ]
          },
          "metadata": {
            "tags": []
          },
          "execution_count": 97
        }
      ]
    },
    {
      "cell_type": "code",
      "metadata": {
        "id": "ft4r2UHZFAZZ"
      },
      "source": [
        "svm_yhat = svm.predict(x_test)"
      ],
      "execution_count": null,
      "outputs": []
    },
    {
      "cell_type": "code",
      "metadata": {
        "id": "0Q3SXsJHG6Qn",
        "colab": {
          "base_uri": "https://localhost:8080/"
        },
        "outputId": "c180eed8-2b01-4f3b-b0df-ac8d5606f177"
      },
      "source": [
        "#Accuracy score\n",
        "print('Accuracy score of the SVM model is {}'.format(accuracy_score(y_test, svm_yhat)))"
      ],
      "execution_count": null,
      "outputs": [
        {
          "output_type": "stream",
          "text": [
            "Accuracy score of the SVM model is 0.7715736040609137\n"
          ],
          "name": "stdout"
        }
      ]
    },
    {
      "cell_type": "code",
      "metadata": {
        "id": "8McLzXp9HIag",
        "colab": {
          "base_uri": "https://localhost:8080/"
        },
        "outputId": "d2558f7b-51c4-4eb3-eb23-e25b09fd06cd"
      },
      "source": [
        "#F1 score\n",
        "print('F1 score of the SVM model is {}'.format(f1_score(y_test, svm_yhat)))"
      ],
      "execution_count": null,
      "outputs": [
        {
          "output_type": "stream",
          "text": [
            "F1 score of the SVM model is 0.7457627118644067\n"
          ],
          "name": "stdout"
        }
      ]
    },
    {
      "cell_type": "code",
      "metadata": {
        "id": "CzvLbU9dHQH_",
        "colab": {
          "base_uri": "https://localhost:8080/",
          "height": 311
        },
        "outputId": "8a678bf3-1949-4b7e-e7a6-1169fdbfee27"
      },
      "source": [
        "# Confusion matrix\n",
        "svm_matrix = confusion_matrix(y_test, svm_yhat, labels = [0, 1])\n",
        "svm_cm_plot = plot_confusion_matrix(svm_matrix,\n",
        "                                classes = ['Non-fraud(0)','fraud(1)'],\n",
        "                                normalize = False, title = 'SVM')\n",
        "plt.savefig('svm_cm_plot.png')\n",
        "plt.show()"
      ],
      "execution_count": null,
      "outputs": [
        {
          "output_type": "display_data",
          "data": {
            "image/png": "[encoded data removed]",
            "text/plain": [
              "<Figure size 432x288 with 2 Axes>"
            ]
          },
          "metadata": {
            "tags": [],
            "needs_background": "light"
          }
        }
      ]
    },
    {
      "cell_type": "markdown",
      "metadata": {
        "id": "T4CPbmk6d7Ah"
      },
      "source": [
        "**5. Random Forest Tree**"
      ]
    },
    {
      "cell_type": "code",
      "metadata": {
        "colab": {
          "base_uri": "https://localhost:8080/"
        },
        "id": "qOucI42WemGk",
        "outputId": "18b9b221-f5a4-4d85-95ab-202ae8007b77"
      },
      "source": [
        "# Building Random Forest Tree\n",
        "rf = RandomForestClassifier(max_depth = 4)\n",
        "rf.fit(x_train, y_train)"
      ],
      "execution_count": null,
      "outputs": [
        {
          "output_type": "execute_result",
          "data": {
            "text/plain": [
              "RandomForestClassifier(bootstrap=True, ccp_alpha=0.0, class_weight=None,\n",
              "                       criterion='gini', max_depth=4, max_features='auto',\n",
              "                       max_leaf_nodes=None, max_samples=None,\n",
              "                       min_impurity_decrease=0.0, min_impurity_split=None,\n",
              "                       min_samples_leaf=1, min_samples_split=2,\n",
              "                       min_weight_fraction_leaf=0.0, n_estimators=100,\n",
              "                       n_jobs=None, oob_score=False, random_state=None,\n",
              "                       verbose=0, warm_start=False)"
            ]
          },
          "metadata": {
            "tags": []
          },
          "execution_count": 102
        }
      ]
    },
    {
      "cell_type": "code",
      "metadata": {
        "id": "hgjCidsze60x"
      },
      "source": [
        "rf_yhat = rf.predict(x_test)"
      ],
      "execution_count": null,
      "outputs": []
    },
    {
      "cell_type": "code",
      "metadata": {
        "colab": {
          "base_uri": "https://localhost:8080/"
        },
        "id": "CbyOFvrVfBZd",
        "outputId": "4a9df073-7dfd-4b55-be36-db5b30baae22"
      },
      "source": [
        "#Accuracy score\n",
        "print('Accuracy score of the Random Forest Tree model is {}'.format(accuracy_score(y_test, rf_yhat)))"
      ],
      "execution_count": null,
      "outputs": [
        {
          "output_type": "stream",
          "text": [
            "Accuracy score of the Random Forest Tree model is 0.9086294416243654\n"
          ],
          "name": "stdout"
        }
      ]
    },
    {
      "cell_type": "code",
      "metadata": {
        "colab": {
          "base_uri": "https://localhost:8080/"
        },
        "id": "9A_bsNP_fMJr",
        "outputId": "0d7ba712-34f5-4173-f683-99fe0197e09c"
      },
      "source": [
        "#F1 score\n",
        "print('F1 score of the Random Forest Tree model is {}'.format(f1_score(y_test, rf_yhat)))"
      ],
      "execution_count": null,
      "outputs": [
        {
          "output_type": "stream",
          "text": [
            "F1 score of the Random Forest Tree model is 0.9\n"
          ],
          "name": "stdout"
        }
      ]
    },
    {
      "cell_type": "code",
      "metadata": {
        "colab": {
          "base_uri": "https://localhost:8080/",
          "height": 311
        },
        "id": "7vMjYrARfVhU",
        "outputId": "e79bab8e-5b7c-47e4-9e07-793a3a98b04d"
      },
      "source": [
        "#Confusion matrix\n",
        "rf_matrix = confusion_matrix(y_test, rf_yhat, labels = [0, 1])\n",
        "rf_cm_plot = plot_confusion_matrix(rf_matrix,\n",
        "                                classes = ['Non-fraud(0)','fraud(1)'],\n",
        "                                normalize = False, title = 'Random Forest Tree')\n",
        "plt.savefig('rf_cm_plot.png')\n",
        "plt.show()"
      ],
      "execution_count": null,
      "outputs": [
        {
          "output_type": "display_data",
          "data": {
            "image/png": "[encoded data removed]",
            "text/plain": [
              "<Figure size 432x288 with 2 Axes>"
            ]
          },
          "metadata": {
            "tags": [],
            "needs_background": "light"
          }
        }
      ]
    },
    {
      "cell_type": "markdown",
      "metadata": {
        "id": "lzOpCCKdgETg"
      },
      "source": [
        "\n",
        "**Compare between models scores and accuracies**"
      ]
    }
  ]
}